{
 "cells": [
  {
   "cell_type": "code",
   "execution_count": null,
   "id": "872bf6ba",
   "metadata": {},
   "outputs": [],
   "source": [
    "#Lab Session 17\n",
    "#Name: Anant Dubey\n",
    "#PRN: 1132220920"
   ]
  },
  {
   "cell_type": "code",
   "execution_count": 10,
   "id": "a5c483e1",
   "metadata": {},
   "outputs": [
    {
     "name": "stdout",
     "output_type": "stream",
     "text": [
      "this is Msc computer\n",
      " science \n",
      "Pytho\n",
      "n practial\n"
     ]
    }
   ],
   "source": [
    "#Q1\n",
    "file_input = open(\"sample1.txt\",'r')\n",
    "print (file_input.read(20))\n",
    "print(file_input.read(15)) \n",
    "print(file_input.read(10)) \n",
    "file_input.close()"
   ]
  },
  {
   "cell_type": "code",
   "execution_count": 13,
   "id": "c6e854af",
   "metadata": {},
   "outputs": [
    {
     "name": "stdout",
     "output_type": "stream",
     "text": [
      "['this is Msc computer science \\n', 'Python practial\\n']\n",
      "['this is Msc computer science \\n', 'Python practial\\n']\n"
     ]
    }
   ],
   "source": [
    "file_input = open(\"sample1.txt\",'r')\n",
    "print (file_input.readlines())\n",
    "file_input = open(\"sample1.txt\",'r')\n",
    "print( file_input.readlines())\n",
    "file_input.close()"
   ]
  },
  {
   "cell_type": "code",
   "execution_count": 20,
   "id": "9fee31ac",
   "metadata": {},
   "outputs": [
    {
     "name": "stdout",
     "output_type": "stream",
     "text": [
      "Enter the word hate\n",
      "The  hate  hate  0  point\n",
      "The  hate  hate  1  point\n"
     ]
    }
   ],
   "source": [
    "word = input(\"Enter the word \")\n",
    "word = word.lower()\n",
    "file_txt = open(\"batman.txt\", \"r\")\n",
    "count = 0\n",
    "for each in file_txt:\n",
    "    if word in each.lower():\n",
    "        count = count+1\n",
    "    print (\"The \", word ,\" hate \",count, \" point\")"
   ]
  },
  {
   "cell_type": "code",
   "execution_count": 25,
   "id": "5f3e64ea",
   "metadata": {},
   "outputs": [],
   "source": [
    "file_input = open(\"batman.txt\",'w')\n",
    "file_input.write(\"Never give up\")\n",
    "file_input.write(\"nRise above hate\")\n",
    "file_input.write(\"nNo body remember second place\")\n",
    "file_input.close()"
   ]
  },
  {
   "cell_type": "code",
   "execution_count": null,
   "id": "ed0848b0",
   "metadata": {},
   "outputs": [],
   "source": [
    "#Q2"
   ]
  },
  {
   "cell_type": "code",
   "execution_count": 35,
   "id": "d31b492e",
   "metadata": {},
   "outputs": [
    {
     "name": "stdout",
     "output_type": "stream",
     "text": [
      "<_io.TextIOWrapper name='output.txt' mode='w' encoding='cp1252'>\n"
     ]
    },
    {
     "data": {
      "text/plain": [
       "24"
      ]
     },
     "execution_count": 35,
     "metadata": {},
     "output_type": "execute_result"
    }
   ],
   "source": [
    "fout = open('output.txt', 'w')\n",
    "print(fout)\n",
    "line1 = \"This here's the wattle,\\n\"\n",
    "fout.write(line1)"
   ]
  },
  {
   "cell_type": "code",
   "execution_count": 37,
   "id": "8e613f29",
   "metadata": {},
   "outputs": [
    {
     "data": {
      "text/plain": [
       "'42'"
      ]
     },
     "execution_count": 37,
     "metadata": {},
     "output_type": "execute_result"
    }
   ],
   "source": [
    "camels = 42\n",
    "'%d' % camels"
   ]
  },
  {
   "cell_type": "code",
   "execution_count": 38,
   "id": "954f5590",
   "metadata": {},
   "outputs": [
    {
     "data": {
      "text/plain": [
       "'I have spotted 42 camels.'"
      ]
     },
     "execution_count": 38,
     "metadata": {},
     "output_type": "execute_result"
    }
   ],
   "source": [
    "camels = 42\n",
    "'I have spotted %d camels.' % camels\n",
    "'I have spotted 42 camels.'"
   ]
  },
  {
   "cell_type": "code",
   "execution_count": 40,
   "id": "dcea71ac",
   "metadata": {},
   "outputs": [
    {
     "name": "stdout",
     "output_type": "stream",
     "text": [
      "C:\\Users\\Admin\n"
     ]
    }
   ],
   "source": [
    "import os\n",
    "cwd = os.getcwd()\n",
    "print (cwd)"
   ]
  },
  {
   "cell_type": "code",
   "execution_count": 41,
   "id": "9bd0491a",
   "metadata": {},
   "outputs": [
    {
     "data": {
      "text/plain": [
       "'C:\\\\Users\\\\Admin\\\\memo.txt'"
      ]
     },
     "execution_count": 41,
     "metadata": {},
     "output_type": "execute_result"
    }
   ],
   "source": [
    "os.path.abspath('memo.txt')"
   ]
  },
  {
   "cell_type": "code",
   "execution_count": 50,
   "id": "36e99f4b",
   "metadata": {},
   "outputs": [
    {
     "name": "stdout",
     "output_type": "stream",
     "text": [
      "this is Msc computer science\n",
      "Python practial\n"
     ]
    }
   ],
   "source": [
    "#Q3\n",
    "filename = \"sample1.txt\" # Replace with your file name\n",
    "def display_text_file(filename):\n",
    "    try:\n",
    "        # Open the file in read mode\n",
    "        with open(filename, 'r') as file:\n",
    "            # Read the file line by line\n",
    "            for line in file:\n",
    "                # Remove trailing newline characters and display the line\n",
    "                print(line.rstrip())\n",
    "    except FileNotFoundError:\n",
    "        print(f\"File '{filename}' not found.\")\n",
    "    except Exception as e:\n",
    "        print(f\"Error occurred while reading file: {str(e)}\")\n",
    "display_text_file(filename)"
   ]
  },
  {
   "cell_type": "code",
   "execution_count": 51,
   "id": "50295292",
   "metadata": {},
   "outputs": [
    {
     "name": "stdout",
     "output_type": "stream",
     "text": [
      "No of lines not starting with 'T'= 2\n"
     ]
    }
   ],
   "source": [
    "#Q4\n",
    "def line_count():\n",
    "    file = open(\"sample1.txt\",\"r\")\n",
    "    count=0\n",
    "    for line in file:\n",
    "        if line[0] not in 'T':\n",
    "            count+= 1\n",
    "    file.close()\n",
    "    print(\"No of lines not starting with 'T'=\",count)\n",
    "\n",
    "line_count()"
   ]
  },
  {
   "cell_type": "code",
   "execution_count": 52,
   "id": "8c93c426",
   "metadata": {},
   "outputs": [
    {
     "name": "stdout",
     "output_type": "stream",
     "text": [
      "Number of words in text file : 7\n"
     ]
    }
   ],
   "source": [
    "#Q5\n",
    "file = open(\"sample1.txt\", \"rt\")\n",
    "data = file.read()\n",
    "words = data.split()\n",
    "\n",
    "print('Number of words in text file :', len(words))"
   ]
  },
  {
   "cell_type": "code",
   "execution_count": 54,
   "id": "94a84c74",
   "metadata": {},
   "outputs": [
    {
     "name": "stdout",
     "output_type": "stream",
     "text": [
      "1\n"
     ]
    }
   ],
   "source": [
    "#Q6\n",
    "def count_words():\n",
    "    file = open(\"sample1.txt\",\"r\")\n",
    "    count = 0\n",
    "    data = file.read()\n",
    "    words = data.split()\n",
    "    for word in words:\n",
    "        if word ==\"the\" or word ==\"the\":\n",
    "            count += 1\n",
    "    print(count)\n",
    "    file.close()\n",
    "\n",
    "count_words()"
   ]
  },
  {
   "cell_type": "code",
   "execution_count": 57,
   "id": "25e71511",
   "metadata": {},
   "outputs": [],
   "source": [
    "#Q7\n",
    "def DISPLAYWORDS():\n",
    "    c=0\n",
    "    file=open('sample1.txt','r')\n",
    "    line = file.read()\n",
    "    word = line.split()\n",
    "    for w in word:\n",
    "        if len(w)<4:\n",
    "            c+=1\n",
    "            print(w,end=\", \")\n",
    "    print()\n",
    "    print(\"Total Words of letters less than 4 in file are:\",c)\n",
    "    file.close()\n"
   ]
  },
  {
   "cell_type": "code",
   "execution_count": 59,
   "id": "4aa56e5f",
   "metadata": {},
   "outputs": [
    {
     "name": "stdout",
     "output_type": "stream",
     "text": [
      "1\n"
     ]
    }
   ],
   "source": [
    "#Q8\n",
    "def count_words():\n",
    "    file = open(\"sample1.txt\",\"r\")\n",
    "    count = 0\n",
    "    data = file.read()\n",
    "    words = data.split()\n",
    "    for word in words:\n",
    "        if word == 'this' or word =='these':\n",
    "            count+=1\n",
    "    print(count)\n",
    "    file.close()\n",
    "\n",
    "count_words()"
   ]
  },
  {
   "cell_type": "code",
   "execution_count": 60,
   "id": "e57529b2",
   "metadata": {},
   "outputs": [
    {
     "name": "stdout",
     "output_type": "stream",
     "text": [
      "3\n"
     ]
    }
   ],
   "source": [
    "#Q9\n",
    "def count_words():\n",
    "    file = open(\"sample1.txt\",\"r\")\n",
    "    count = 0\n",
    "    data = file.read()\n",
    "    words = data.split()\n",
    "    for word in words:\n",
    "        if word[-1] == 'e':\n",
    "            count+=1\n",
    "    print(count)\n",
    "    file.close()\n",
    "\n",
    "count_words()\n"
   ]
  },
  {
   "cell_type": "code",
   "execution_count": 61,
   "id": "1fed5e3f",
   "metadata": {},
   "outputs": [
    {
     "name": "stdout",
     "output_type": "stream",
     "text": [
      "2\n"
     ]
    }
   ],
   "source": [
    "#Q10\n",
    "def count_letter():\n",
    "    file = open(\"sample1.txt\",\"r\")\n",
    "    data = file.read()\n",
    "    count = 0\n",
    "    for letter in data:\n",
    "        if letter.isupper():\n",
    "            count+=1\n",
    "    print(count)\n",
    "    file.close()\n",
    "\n",
    "count_letter()"
   ]
  }
 ],
 "metadata": {
  "kernelspec": {
   "display_name": "Python 3 (ipykernel)",
   "language": "python",
   "name": "python3"
  },
  "language_info": {
   "codemirror_mode": {
    "name": "ipython",
    "version": 3
   },
   "file_extension": ".py",
   "mimetype": "text/x-python",
   "name": "python",
   "nbconvert_exporter": "python",
   "pygments_lexer": "ipython3",
   "version": "3.11.0"
  }
 },
 "nbformat": 4,
 "nbformat_minor": 5
}
