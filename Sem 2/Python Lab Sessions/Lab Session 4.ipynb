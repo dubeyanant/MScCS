{
 "cells": [
  {
   "cell_type": "code",
   "execution_count": 12,
   "id": "683bdc33",
   "metadata": {},
   "outputs": [
    {
     "name": "stdout",
     "output_type": "stream",
     "text": [
      "First dict:  {21: 'FTP', 22: 'SSH', 23: 'Telnet', 80: 'HTTP'}\n",
      "Second dict:  {'FTP': 21, 'SSH': 22, 'Telnet': 23, 'HTTP': 80}\n"
     ]
    }
   ],
   "source": [
    "# 1. Make a new dictionary in which keys become values and values become keys.\n",
    "port1 = {21: \"FTP\", 22: \"SSH\", 23: \"Telnet\", 80: \"HTTP\"}\n",
    "port2 = {}\n",
    "\n",
    "print(\"First dict: \", port1)\n",
    "\n",
    "for i in port1:\n",
    "    port2[port1[i]] = i\n",
    "    \n",
    "print(\"Second dict: \", port2)"
   ]
  },
  {
   "cell_type": "code",
   "execution_count": null,
   "id": "9ffbee80",
   "metadata": {},
   "outputs": [],
   "source": [
    "# 2. Find the number of ways to find whether a key exists in a dictionary or not.\n",
    "# There are two ways to find whether a key exists in a dictionary or not\n",
    "    # i) dict.has_key(key)\n",
    "    # ii) if-in using loops"
   ]
  },
  {
   "cell_type": "code",
   "execution_count": 29,
   "id": "c1b75d73",
   "metadata": {},
   "outputs": [
    {
     "name": "stdout",
     "output_type": "stream",
     "text": [
      "Enter choice: 1\n",
      "Add student\n",
      "Enter choice: 2\n",
      "Remove student\n",
      "Enter choice: 3\n",
      "Print grades\n",
      "Enter choice: 4\n",
      "Record grade\n",
      "Enter choice: 5\n",
      "Print menu\n",
      "Enter choice: 6\n",
      "Exit\n"
     ]
    }
   ],
   "source": [
    "## 3. Create Menu Driven Programme.\n",
    "dictChoice = {1: \"Add student\", 2: \"Remove student\", 3: \"Print grades\", 4: \"Record grade\", 5: \"Print menu\", 6: \"Exit\"}\n",
    "\n",
    "choice = 0\n",
    "while(choice != 6):\n",
    "    choice = int(input(\"Enter choice: \"))\n",
    "    if(choice == 1):\n",
    "        print(dictChoice[1])\n",
    "    elif(choice == 2):\n",
    "        print(dictChoice[2])\n",
    "    elif(choice == 3):\n",
    "        print(dictChoice[3])\n",
    "    elif(choice == 4):\n",
    "        print(dictChoice[4])\n",
    "    elif(choice == 5):\n",
    "        print(dictChoice[5])\n",
    "    elif(choice == 6):\n",
    "        print(dictChoice[6])"
   ]
  },
  {
   "cell_type": "code",
   "execution_count": 32,
   "id": "8207749f",
   "metadata": {},
   "outputs": [
    {
     "name": "stdout",
     "output_type": "stream",
     "text": [
      "{'a': 1, 'c': 3, 'b': 2, 'e': 5, 'd': 4}\n"
     ]
    }
   ],
   "source": [
    "# 4. Write a program to Merge the given two dictionaries in one {'a': 1, 'c': 3} and {'b':2, 'e':5, 'd':4}\n",
    "dict1 = {'a': 1, 'c': 3}\n",
    "dict2 = {'b':2, 'e':5, 'd':4}\n",
    "dict3 = dict1 | dict2\n",
    "print(dict3)"
   ]
  },
  {
   "cell_type": "code",
   "execution_count": 44,
   "id": "de272ddd",
   "metadata": {},
   "outputs": [
    {
     "name": "stdout",
     "output_type": "stream",
     "text": [
      "{'a': 1, 'c': 3, 'b': 2, 'e': 5, 'd': 4}\n",
      "In ascending order:  {'a': 1, 'b': 2, 'c': 3, 'd': 4, 'e': 5}\n",
      "In descending order:  {'e': 5, 'd': 4, 'c': 3, 'b': 2, 'a': 1}\n"
     ]
    }
   ],
   "source": [
    "# 5. Write a program to Sort (ascending and descending) a dictionary by value.\n",
    "print(dict3)\n",
    "\n",
    "myKeys = list(dict3.keys())\n",
    "myKeys.sort()\n",
    "sorted_dict = {i: dict3[i] for i in myKeys}\n",
    " \n",
    "print(\"In ascending order: \", sorted_dict)\n",
    "\n",
    "myKeys.sort(reverse = True)\n",
    "sorted_dict = {i: dict3[i] for i in myKeys}\n",
    " \n",
    "print(\"In descending order: \",sorted_dict)"
   ]
  },
  {
   "cell_type": "code",
   "execution_count": 43,
   "id": "df596836",
   "metadata": {},
   "outputs": [
    {
     "name": "stdout",
     "output_type": "stream",
     "text": [
      "{1: 'Hello', 2: 'World'}\n"
     ]
    }
   ],
   "source": [
    "# 6. Write a program to Add a key to a dictionary.\n",
    "dict = {1: 'Hello'}\n",
    "dict[2] = 'World'\n",
    "print(dict)"
   ]
  },
  {
   "cell_type": "code",
   "execution_count": 49,
   "id": "34ba77bc",
   "metadata": {},
   "outputs": [
    {
     "name": "stdout",
     "output_type": "stream",
     "text": [
      "How many employees: 2\n",
      "Enter salary: 100000\n",
      "Enter name: Anant Dubey\n",
      "Enter salary: 50000\n",
      "Enter name: Someone random\n",
      "{'Anant Dubey': '100000', 'Someone random': '50000'}\n"
     ]
    }
   ],
   "source": [
    "# 7. Write a program to enter name of employees and their salaries as input and store them in a dictionary.\n",
    "emp = {}\n",
    "n = int(input(\"How many employees: \"))\n",
    "for i in range(0,n):\n",
    "    emp[input(\"Enter name: \")] = input(\"Enter salary: \")\n",
    "print(emp)"
   ]
  },
  {
   "cell_type": "code",
   "execution_count": 56,
   "id": "f3bc8995",
   "metadata": {},
   "outputs": [
    {
     "name": "stdout",
     "output_type": "stream",
     "text": [
      "Admitted Students:  {'student_1': 13, 'student_2': 17, 'student_4': 15, 'student_6': 14, 'student_7': 16, 'student_8': 12, 'student_9': 13, 'student_10': 15, 'student_11': 14, 'student_13': 10, 'student_14': 12, 'student_15': 13, 'student_17': 12, 'student_18': 15, 'student_20': 17} \n",
      "\n",
      "Non-Admitted Students:  {'student_3': 9, 'student_5': 8, 'student_12': 9, 'student_16': 7, 'student_19': 9}\n"
     ]
    }
   ],
   "source": [
    "# 8. Write a program that partitions this dictionary into two sub-dictionaries.\n",
    "students = {\"student_1\": 13, \"student_2\": 17, \"student_3\": 9, \"student_4\": 15, \"student_5\": 8, \n",
    "            \"student_6\": 14, \"student_7\": 16, \"student_8\": 12, \"student_9\": 13, \"student_10\": 15,\n",
    "            \"student_11\": 14, \"student_12\": 9, \"student_13\": 10, \"student_14\": 12, \"student_15\": 13, \n",
    "            \"student_16\": 7, \"student_17\": 12, \"student_18\": 15, \"student_19\": 9, \"student_20\": 17}\n",
    "\n",
    "admittedStudents = {}\n",
    "nonAdmittedStudents = {}\n",
    "\n",
    "for i in students:\n",
    "    if(students[i] >= 10):\n",
    "        admittedStudents[i] = students[i]\n",
    "    else:\n",
    "        nonAdmittedStudents[i] = students[i]\n",
    "        \n",
    "print(\"Admitted Students: \", admittedStudents, \"\\n\\nNon-Admitted Students: \", nonAdmittedStudents)"
   ]
  },
  {
   "cell_type": "code",
   "execution_count": 65,
   "id": "8a5ac37f",
   "metadata": {
    "scrolled": true
   },
   "outputs": [
    {
     "name": "stdout",
     "output_type": "stream",
     "text": [
      "(1, 2, 3, 4, 5, 7, 9)\n"
     ]
    }
   ],
   "source": [
    "# 9. Write a program to Sort a tuple which is having elements (4,5,2,7,1,9,3).\n",
    "tuple1 = (4,5,2,7,1,9,3)\n",
    "print(tuple(sorted(tuple1)))"
   ]
  },
  {
   "cell_type": "code",
   "execution_count": 74,
   "id": "4479f08f",
   "metadata": {},
   "outputs": [
    {
     "name": "stdout",
     "output_type": "stream",
     "text": [
      "Tuple is:  (4, 5, 2, 7, 1, 9, 3)\n",
      "Sum of the tuple is:  31\n"
     ]
    }
   ],
   "source": [
    "# 10. Write a program find Sum of tuple elements.\n",
    "print(\"Tuple is: \", tuple1)\n",
    "sum = 0\n",
    "for i in tuple1:\n",
    "    sum = sum + int(i)\n",
    "    \n",
    "print(\"Sum of the tuple is: \", sum)"
   ]
  },
  {
   "cell_type": "code",
   "execution_count": 79,
   "id": "138a0765",
   "metadata": {},
   "outputs": [
    {
     "name": "stdout",
     "output_type": "stream",
     "text": [
      "(4, 5, 2, 7, 1, 9, 3)\n"
     ]
    },
    {
     "data": {
      "text/plain": [
       "7"
      ]
     },
     "execution_count": 79,
     "metadata": {},
     "output_type": "execute_result"
    }
   ],
   "source": [
    "# 11. Write a program to Find the size of a Tuple.\n",
    "print(tuple1)\n",
    "len(tuple1)"
   ]
  },
  {
   "cell_type": "code",
   "execution_count": 3,
   "id": "8005098c",
   "metadata": {},
   "outputs": [
    {
     "name": "stdout",
     "output_type": "stream",
     "text": [
      "{'Name': 'Sara', 'Age': 22, 'Gender': 'Female'}\n"
     ]
    }
   ],
   "source": [
    "# 12. Write a program to convert a list of tuples into a dictionary.\n",
    "I = [(\"Name\", \"Ram\"), (\"Name\", \"Pooja\"), (\"Name\", \"Sara\"), (\"Age\", 21), (\"Gender\", \"Male\"),\n",
    "     (\"Age\", 23), (\"Gender\", \"Female\"), (\"Gender\", \"Female\"), (\"Age\", 22)]\n",
    "print(dict(I))"
   ]
  },
  {
   "cell_type": "code",
   "execution_count": 96,
   "id": "3a18d9c0",
   "metadata": {},
   "outputs": [
    {
     "name": "stdout",
     "output_type": "stream",
     "text": [
      "(1, 2, 4, 5, 6, 8)\n"
     ]
    }
   ],
   "source": [
    "# 13. Write a program to remove an item from a tuple.\n",
    "tuple1 = (1, 2, 4, 5, 6, 8, 3)\n",
    "\n",
    "tuple1 = list(tuple1)\n",
    "tuple1.remove(3)\n",
    "tuple1 = tuple(tuple1)\n",
    "\n",
    "print(tuple1)"
   ]
  },
  {
   "cell_type": "code",
   "execution_count": 101,
   "id": "4f90c296",
   "metadata": {},
   "outputs": [
    {
     "data": {
      "text/plain": [
       "(7, 6, 5, 4, 3, 2, 1)"
      ]
     },
     "execution_count": 101,
     "metadata": {},
     "output_type": "execute_result"
    }
   ],
   "source": [
    "# 14. Display the tuple of numbers in reverse order.\n",
    "tuple2 = (1, 2, 3, 4, 5, 6, 7)\n",
    "tuple2[::-1]"
   ]
  },
  {
   "cell_type": "code",
   "execution_count": 4,
   "id": "2da820cf",
   "metadata": {},
   "outputs": [
    {
     "name": "stdout",
     "output_type": "stream",
     "text": [
      "('Hello World', [1, 2, 3, 4, 5], (6, 7, 8, 9, 10))\n"
     ]
    }
   ],
   "source": [
    "# 15. Create a nested tuple which consists of string, a list of numbers and tuple of numbers.\n",
    "tup = (\"Hello World\", [1, 2, 3, 4, 5], (6, 7, 8, 9, 10))\n",
    "print(tup)"
   ]
  },
  {
   "cell_type": "code",
   "execution_count": 5,
   "id": "55626017",
   "metadata": {},
   "outputs": [
    {
     "name": "stdout",
     "output_type": "stream",
     "text": [
      "2\n"
     ]
    }
   ],
   "source": [
    "# 16. Access the 2nd element of the list from the tuple.\n",
    "print(tup[1][1])"
   ]
  },
  {
   "cell_type": "code",
   "execution_count": 7,
   "id": "01eba975",
   "metadata": {},
   "outputs": [
    {
     "name": "stdout",
     "output_type": "stream",
     "text": [
      "{2, 3, 12}\n"
     ]
    }
   ],
   "source": [
    "# 17. Create two sets which stores values, update the first set with values which are\n",
    "# present only in first set and not in the second set.\n",
    "set1 = {2, 5, 3, 10, 12}\n",
    "set2 = {5, 10, 15, 20}\n",
    "\n",
    "set1.difference_update(set2)\n",
    "print(set1)"
   ]
  }
 ],
 "metadata": {
  "kernelspec": {
   "display_name": "Python 3 (ipykernel)",
   "language": "python",
   "name": "python3"
  },
  "language_info": {
   "codemirror_mode": {
    "name": "ipython",
    "version": 3
   },
   "file_extension": ".py",
   "mimetype": "text/x-python",
   "name": "python",
   "nbconvert_exporter": "python",
   "pygments_lexer": "ipython3",
   "version": "3.11.0"
  }
 },
 "nbformat": 4,
 "nbformat_minor": 5
}
