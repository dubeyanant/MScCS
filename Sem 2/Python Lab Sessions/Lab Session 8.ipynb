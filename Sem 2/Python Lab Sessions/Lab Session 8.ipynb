{
 "cells": [
  {
   "cell_type": "code",
   "execution_count": 1,
   "id": "c07120b6",
   "metadata": {},
   "outputs": [
    {
     "name": "stdout",
     "output_type": "stream",
     "text": [
      "The number in the class is  5\n",
      "200\n",
      "2000\n",
      "200\n",
      "This is lab session\n",
      "500\n",
      "1000\n"
     ]
    }
   ],
   "source": [
    "#Name: Anant Dubey\n",
    "#PRN: 1132220920\n",
    "\n",
    "#Q1\n",
    "\n",
    "#Example 2\n",
    "class numberclass:\n",
    "    num=5\n",
    "    \n",
    "n1=numberclass()\n",
    "print(\"The number in the class is \",n1.num)\n",
    "\n",
    "# Example 3 uses constructor\n",
    "class withfunction:\n",
    "    num=200\n",
    "    def lab(self):\n",
    "        print(\"This is lab session\")\n",
    "    def __init__(self,num1,num2):\n",
    "        self.num1=num1\n",
    "        self.num2=num2\n",
    "        \n",
    "withobject=withfunction(500,1000)\n",
    "print(withobject.num)\n",
    "\n",
    "#modify the object property\n",
    "withobject.num=2000 \n",
    "print(withobject.num)\n",
    "\n",
    "del withobject.num\n",
    "print(withobject.num)\n",
    "\n",
    "withobject.lab()\n",
    "print(withobject.num1)\n",
    "\n",
    "print(withobject.num2)"
   ]
  },
  {
   "cell_type": "code",
   "execution_count": 2,
   "id": "459c04f6",
   "metadata": {},
   "outputs": [
    {
     "name": "stdout",
     "output_type": "stream",
     "text": [
      "This is parent function\n",
      "This is child function\n"
     ]
    }
   ],
   "source": [
    "#Inheritance\n",
    "#Single inheritance\n",
    "\n",
    "class Parent:\n",
    "    def parentfunc(self):\n",
    "        print(\"This is parent function\")\n",
    "class Child(Parent):\n",
    "    def childfunc(self):\n",
    "        print(\"This is child function\")\n",
    "        \n",
    "ch = Child()\n",
    "ch.parentfunc()\n",
    "ch.childfunc()"
   ]
  },
  {
   "cell_type": "code",
   "execution_count": 4,
   "id": "1301377b",
   "metadata": {},
   "outputs": [
    {
     "name": "stdout",
     "output_type": "stream",
     "text": [
      "This function belongs to parent 1\n",
      "This function belongs to parent 2\n",
      "This function belongs to child\n"
     ]
    }
   ],
   "source": [
    "#Multiple Inheritance\n",
    "\n",
    "class Parent1:\n",
    "    def parentfunc1(self):\n",
    "        print(\"This function belongs to parent 1\")\n",
    "        \n",
    "class Parent2:\n",
    "    def parentfunct2(self):\n",
    "        print(\"This function belongs to parent 2\")\n",
    "                \n",
    "class Child1(Parent1,Parent2):\n",
    "    def childfunc(self):\n",
    "        print(\"This function belongs to child\")\n",
    "\n",
    "ch1=Child1()\n",
    "ch1.parentfunc1()\n",
    "ch1.parentfunct2()\n",
    "ch1.childfunc()"
   ]
  },
  {
   "cell_type": "code",
   "execution_count": 5,
   "id": "6eb27834",
   "metadata": {},
   "outputs": [
    {
     "name": "stdout",
     "output_type": "stream",
     "text": [
      "This function belongs to parent\n",
      "This function belongs to child 1\n",
      "This function belongs to child 2\n"
     ]
    }
   ],
   "source": [
    "# Example of Multilevel Inheritance\n",
    "\n",
    "class Parent: \n",
    "    def parentfunct(self):\n",
    "        print(\"This function belongs to parent\")\n",
    "        \n",
    "class Child1(Parent):\n",
    "    def childfunc1(self):\n",
    "        print(\"This function belongs to child 1\")\n",
    "            \n",
    "class Child2(Child1):\n",
    "    def childfunc2(self):\n",
    "        print(\"This function belongs to child 2\")\n",
    "        \n",
    "child2ob = Child2()\n",
    "child2ob.parentfunct()\n",
    "child2ob.childfunc1()\n",
    "child2ob.childfunc2()"
   ]
  },
  {
   "cell_type": "code",
   "execution_count": 6,
   "id": "010a835a",
   "metadata": {},
   "outputs": [
    {
     "name": "stdout",
     "output_type": "stream",
     "text": [
      "This function belongs to parent\n",
      "This function belongs to child 1\n",
      "This function belongs to parent\n",
      "This function belongs to child 2\n"
     ]
    }
   ],
   "source": [
    "# Example of Hierarchical\n",
    "\n",
    "class Parent:\n",
    "    def parentfunc(self):\n",
    "        print(\"This function belongs to parent\")\n",
    "        \n",
    "class Child1(Parent):\n",
    "    def childfunc1(self):\n",
    "            print(\"This function belongs to child 1\")\n",
    "        \n",
    "class Child2(Parent):\n",
    "    def childfunc2(self):\n",
    "            print(\"This function belongs to child 2\")\n",
    "\n",
    "child1ob = Child1()\n",
    "child1ob.parentfunc()\n",
    "child1ob.childfunc1()\n",
    "child2ob=Child2()\n",
    "child2ob.parentfunc()\n",
    "child2ob.childfunc2()"
   ]
  },
  {
   "cell_type": "code",
   "execution_count": 7,
   "id": "60f16b2b",
   "metadata": {},
   "outputs": [
    {
     "name": "stdout",
     "output_type": "stream",
     "text": [
      "This is child class constructor\n",
      "Good Evening!!! Parent class constructor\n"
     ]
    }
   ],
   "source": [
    "#Example of super function\n",
    "\n",
    "class Parent: \n",
    "    def __init__(self,text):\n",
    "        print(text,\"Parent class constructor\")\n",
    "        \n",
    "class Child(Parent):\n",
    "    def __init__(self):\n",
    "        print(\"This is child class constructor\")\n",
    "        super().__init__(\"Good Evening!!!\")\n",
    "\n",
    "childob = Child()"
   ]
  },
  {
   "cell_type": "code",
   "execution_count": 24,
   "id": "e6c74563",
   "metadata": {},
   "outputs": [
    {
     "name": "stdout",
     "output_type": "stream",
     "text": [
      "Anant Dubey\n"
     ]
    }
   ],
   "source": [
    "#Q2\n",
    "\n",
    "class Leapx_org():\n",
    "    def __init__(self,first,last,pay):\n",
    "        self.f_name = first\n",
    "        self.l_name = last\n",
    "        self.pay_amt = pay\n",
    "        self.full_name = first+\" \"+last\n",
    "\n",
    "L_obj1 = Leapx_org('Anant', 'Dubey', 60000)\n",
    "\n",
    "print (L_obj1.full_name)"
   ]
  },
  {
   "cell_type": "code",
   "execution_count": 9,
   "id": "b49346dc",
   "metadata": {},
   "outputs": [
    {
     "name": "stdout",
     "output_type": "stream",
     "text": [
      "hello\n",
      "HELLO\n"
     ]
    }
   ],
   "source": [
    "#Q3\n",
    "\n",
    "class IOString():\n",
    "    def __init__(self):\n",
    "        self.str1 = \"\"\n",
    "\n",
    "    def get_String(self):\n",
    "        self.str1 = input()\n",
    "\n",
    "    def print_String(self):\n",
    "        print(self.str1.upper())\n",
    "\n",
    "str1 = IOString()\n",
    "str1.get_String()\n",
    "str1.print_String()"
   ]
  },
  {
   "cell_type": "code",
   "execution_count": 10,
   "id": "fd1ba9f3",
   "metadata": {},
   "outputs": [
    {
     "name": "stdout",
     "output_type": "stream",
     "text": [
      "120\n"
     ]
    }
   ],
   "source": [
    "#Q4\n",
    "\n",
    "class Rectangle():\n",
    "    def __init__(self, l, w):\n",
    "        self.length = l\n",
    "        self.width  = w\n",
    "\n",
    "    def rectangle_area(self):\n",
    "        return self.length*self.width\n",
    "\n",
    "newRectangle = Rectangle(12, 10)\n",
    "print(newRectangle.rectangle_area())"
   ]
  },
  {
   "cell_type": "code",
   "execution_count": 11,
   "id": "7f0059ef",
   "metadata": {},
   "outputs": [
    {
     "name": "stdout",
     "output_type": "stream",
     "text": [
      "Enter a Number: 50\n",
      "\n",
      "Factorial of 50 = 30414093201713378043612608166064768844377641568960512000000000000\n"
     ]
    }
   ],
   "source": [
    "#Q5\n",
    "\n",
    "class Fact:\n",
    "    def findFact(self, n):\n",
    "        f = 1\n",
    "        for i in range(1, n + 1):\n",
    "            f = f * i\n",
    "        return f\n",
    "\n",
    "print(\"Enter a Number: \", end=\"\")\n",
    "num = int(input())\n",
    "\n",
    "ob = Fact()\n",
    "print(\"\\nFactorial of\", num, \"=\", ob.findFact(num))"
   ]
  },
  {
   "cell_type": "code",
   "execution_count": 17,
   "id": "89aca21f",
   "metadata": {},
   "outputs": [
    {
     "name": "stdout",
     "output_type": "stream",
     "text": [
      "Sorted array is:\n",
      " 3  6  12  14  54  87  88 "
     ]
    }
   ],
   "source": [
    "#Q6\n",
    "\n",
    "# Python program for implementation of Bubble Sort\n",
    " \n",
    "def bubbleSort(arr):\n",
    "    n = len(arr)\n",
    "    swapped = False\n",
    "    for i in range(n-1):\n",
    "        for j in range(0, n-i-1):\n",
    "            if arr[j] > arr[j + 1]:\n",
    "                swapped = True\n",
    "                arr[j], arr[j + 1] = arr[j + 1], arr[j]\n",
    "        if not swapped:\n",
    "            return\n",
    " \n",
    " \n",
    "# Driver code to test above\n",
    "arr = [14, 54, 87, 12, 3, 6, 88]\n",
    " \n",
    "bubbleSort(arr)\n",
    " \n",
    "print(\"Sorted array is:\")\n",
    "for i in range(len(arr)):\n",
    "    print(\"% d\" % arr[i], end=\" \")"
   ]
  },
  {
   "cell_type": "code",
   "execution_count": 18,
   "id": "2bb91a29",
   "metadata": {},
   "outputs": [
    {
     "name": "stdout",
     "output_type": "stream",
     "text": [
      "151 is Palindrome\n",
      "127 is not Palindrome\n"
     ]
    }
   ],
   "source": [
    "#Q7\n",
    "\n",
    "class Check :\n",
    "\n",
    "  \n",
    "    def __init__(self,number) :\n",
    "        self.num = number\n",
    "        \n",
    "  \n",
    "    def isPalindrome(self) :\n",
    "\n",
    "        \n",
    "        temp = self.num\n",
    "        result = 0\n",
    "\n",
    "        \n",
    "        while(temp != 0) :\n",
    "            \n",
    "            rem = temp % 10\n",
    "            result =  result * 10 + rem\n",
    "\n",
    "            temp //= 10\n",
    "            \n",
    "        if self.num == result :\n",
    "            print(self.num,\"is Palindrome\")\n",
    "        else :\n",
    "            print(self.num,\"is not Palindrome\")\n",
    "\n",
    "\n",
    "\n",
    "if __name__ == \"__main__\" :\n",
    "    \n",
    "    num = 151\n",
    "    \n",
    "    \n",
    "    check_Palindrome = Check(num)\n",
    "    \n",
    "    check_Palindrome.isPalindrome()\n",
    "    \n",
    "    num = 127\n",
    "    check_Palindrome = Check(num)\n",
    "    check_Palindrome.isPalindrome()"
   ]
  },
  {
   "cell_type": "code",
   "execution_count": 19,
   "id": "678922f5",
   "metadata": {},
   "outputs": [
    {
     "name": "stdout",
     "output_type": "stream",
     "text": [
      "Enter a number:153\n",
      "Reverse number is: 351\n"
     ]
    }
   ],
   "source": [
    "#Q8\n",
    "\n",
    "class Test:\n",
    "    def reverse(self, num):\n",
    "        rev = 0\n",
    "        while num > 0:\n",
    "            r = num % 10\n",
    "            rev = rev * 10 + r\n",
    "            num = int(num / 10)\n",
    "        return rev\n",
    "    \n",
    "\n",
    "num = int(input(\"Enter a number:\"))\n",
    "obj = Test()\n",
    "rev = obj.reverse(num)\n",
    "print(\"Reverse number is:\", rev)"
   ]
  }
 ],
 "metadata": {
  "kernelspec": {
   "display_name": "Python 3 (ipykernel)",
   "language": "python",
   "name": "python3"
  },
  "language_info": {
   "codemirror_mode": {
    "name": "ipython",
    "version": 3
   },
   "file_extension": ".py",
   "mimetype": "text/x-python",
   "name": "python",
   "nbconvert_exporter": "python",
   "pygments_lexer": "ipython3",
   "version": "3.11.0"
  }
 },
 "nbformat": 4,
 "nbformat_minor": 5
}
