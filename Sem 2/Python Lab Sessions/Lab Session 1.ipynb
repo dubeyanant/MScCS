{
 "cells": [
  {
   "cell_type": "code",
   "execution_count": 21,
   "id": "296e25f2",
   "metadata": {},
   "outputs": [
    {
     "name": "stdout",
     "output_type": "stream",
     "text": [
      "Naruto Uzumaki\n",
      "The ghose of the UCHIHA\n"
     ]
    }
   ],
   "source": [
    "# 1. WAP to create two variables and print it as below\n",
    "a = \"Naruto Uzumaki\"\n",
    "b = \"The ghose of the UCHIHA\"\n",
    "print(a)\n",
    "print(b)"
   ]
  },
  {
   "cell_type": "code",
   "execution_count": 22,
   "id": "4aa77632",
   "metadata": {},
   "outputs": [
    {
     "name": "stdout",
     "output_type": "stream",
     "text": [
      "Enter name: John Wick\n",
      "Enter age: 45\n",
      "Hello, I'm John Wick and I'm 45 years old.\n"
     ]
    }
   ],
   "source": [
    "# 2. WAP to create one variable with name and second variable with age and print it as below\n",
    "name = input(\"Enter name: \")\n",
    "age = input(\"Enter age: \")\n",
    "print(\"Hello, I'm \" + name + \" and I'm \" + age + \" years old.\")"
   ]
  },
  {
   "cell_type": "code",
   "execution_count": 23,
   "id": "03d23f7d",
   "metadata": {},
   "outputs": [
    {
     "name": "stdout",
     "output_type": "stream",
     "text": [
      "Addition:  15\n",
      "Subtraction:  -5\n",
      "Multiplication:  50\n",
      "Division:  0.5\n"
     ]
    }
   ],
   "source": [
    "# 3. WAP to create two variables and find addition, subtraction, multiplication, and division\n",
    "a = 5\n",
    "b = 10\n",
    "print(\"Addition: \", (a+b))\n",
    "print(\"Subtraction: \", (a-b))\n",
    "print(\"Multiplication: \", (a*b))\n",
    "print(\"Division: \", (a/b))"
   ]
  },
  {
   "cell_type": "code",
   "execution_count": 24,
   "id": "1bfbbcbf",
   "metadata": {
    "scrolled": true
   },
   "outputs": [
    {
     "name": "stdout",
     "output_type": "stream",
     "text": [
      "Enter principle: 5000\n",
      "Enter rate: 12\n",
      "Enter numbers of year: 8\n",
      "Simple interest is  4800.0\n"
     ]
    }
   ],
   "source": [
    "# 4. WAP to create three variables: principle, rate, numbers of year and find simple interest\n",
    "p = int(input(\"Enter principle: \"))\n",
    "r = int(input(\"Enter rate: \"))\n",
    "n = int(input(\"Enter numbers of year: \"))\n",
    "print('Simple interest is ', (p*r*(n/100)))"
   ]
  },
  {
   "cell_type": "code",
   "execution_count": 25,
   "id": "3ff08e61",
   "metadata": {},
   "outputs": [
    {
     "name": "stdout",
     "output_type": "stream",
     "text": [
      "Enter temperature in celsius: 25\n",
      "Temperature in Fahrenheit is  77.0\n"
     ]
    }
   ],
   "source": [
    "# 5. WAP to convert celsius to fahrenheit\n",
    "c = int(input(\"Enter temperature in celsius: \"))\n",
    "print(\"Temperature in Fahrenheit is \", ((c * 1.8) + 32))"
   ]
  },
  {
   "cell_type": "code",
   "execution_count": 1,
   "id": "e2e29c38",
   "metadata": {},
   "outputs": [
    {
     "name": "stdout",
     "output_type": "stream",
     "text": [
      "Enter a number: 5\n",
      "13.141592653589793\n"
     ]
    }
   ],
   "source": [
    "# 6. Take a number and add it to the value of pi\n",
    "import math\n",
    "num = int(input(\"Enter a number: \"))\n",
    "num = num * 2\n",
    "print(num + math.pi)"
   ]
  },
  {
   "cell_type": "code",
   "execution_count": 34,
   "id": "6a66efca",
   "metadata": {},
   "outputs": [
    {
     "name": "stdout",
     "output_type": "stream",
     "text": [
      "2023-01-16 17:22:21.214328\n",
      "17:22:21.215332\n"
     ]
    }
   ],
   "source": [
    "# 7. Print date and time\n",
    "import datetime\n",
    "print(datetime.datetime.now())\n",
    "print(datetime.datetime.now().time())"
   ]
  },
  {
   "cell_type": "code",
   "execution_count": 39,
   "id": "cef174ac",
   "metadata": {},
   "outputs": [
    {
     "name": "stdout",
     "output_type": "stream",
     "text": [
      "       Year Industry_aggregation_NZSIOC Industry_code_NZSIOC  \\\n",
      "0      2021                     Level 1                99999   \n",
      "1      2021                     Level 1                99999   \n",
      "2      2021                     Level 1                99999   \n",
      "3      2021                     Level 1                99999   \n",
      "4      2021                     Level 1                99999   \n",
      "...     ...                         ...                  ...   \n",
      "41710  2013                     Level 3                 ZZ11   \n",
      "41711  2013                     Level 3                 ZZ11   \n",
      "41712  2013                     Level 3                 ZZ11   \n",
      "41713  2013                     Level 3                 ZZ11   \n",
      "41714  2013                     Level 3                 ZZ11   \n",
      "\n",
      "             Industry_name_NZSIOC               Units Variable_code  \\\n",
      "0                  All industries  Dollars (millions)           H01   \n",
      "1                  All industries  Dollars (millions)           H04   \n",
      "2                  All industries  Dollars (millions)           H05   \n",
      "3                  All industries  Dollars (millions)           H07   \n",
      "4                  All industries  Dollars (millions)           H08   \n",
      "...                           ...                 ...           ...   \n",
      "41710  Food product manufacturing          Percentage           H37   \n",
      "41711  Food product manufacturing          Percentage           H38   \n",
      "41712  Food product manufacturing          Percentage           H39   \n",
      "41713  Food product manufacturing          Percentage           H40   \n",
      "41714  Food product manufacturing          Percentage           H41   \n",
      "\n",
      "                                         Variable_name      Variable_category  \\\n",
      "0                                         Total income  Financial performance   \n",
      "1      Sales, government funding, grants and subsidies  Financial performance   \n",
      "2                    Interest, dividends and donations  Financial performance   \n",
      "3                                 Non-operating income  Financial performance   \n",
      "4                                    Total expenditure  Financial performance   \n",
      "...                                                ...                    ...   \n",
      "41710                                      Quick ratio       Financial ratios   \n",
      "41711              Margin on sales of goods for resale       Financial ratios   \n",
      "41712                                 Return on equity       Financial ratios   \n",
      "41713                           Return on total assets       Financial ratios   \n",
      "41714                            Liabilities structure       Financial ratios   \n",
      "\n",
      "         Value                             Industry_code_ANZSIC06  \n",
      "0      757,504  ANZSIC06 divisions A-S (excluding classes K633...  \n",
      "1      674,890  ANZSIC06 divisions A-S (excluding classes K633...  \n",
      "2       49,593  ANZSIC06 divisions A-S (excluding classes K633...  \n",
      "3       33,020  ANZSIC06 divisions A-S (excluding classes K633...  \n",
      "4      654,404  ANZSIC06 divisions A-S (excluding classes K633...  \n",
      "...        ...                                                ...  \n",
      "41710       52  ANZSIC06 groups C111, C112, C113, C114, C115, ...  \n",
      "41711       40  ANZSIC06 groups C111, C112, C113, C114, C115, ...  \n",
      "41712       12  ANZSIC06 groups C111, C112, C113, C114, C115, ...  \n",
      "41713        5  ANZSIC06 groups C111, C112, C113, C114, C115, ...  \n",
      "41714       46  ANZSIC06 groups C111, C112, C113, C114, C115, ...  \n",
      "\n",
      "[41715 rows x 10 columns]\n"
     ]
    }
   ],
   "source": [
    "# 8. Print dataframe\n",
    "import pandas as pd\n",
    "df = pd.read_csv(r\"E:\\Python\\enterprise.csv\")\n",
    "print(df)"
   ]
  },
  {
   "cell_type": "code",
   "execution_count": null,
   "id": "794b12df",
   "metadata": {},
   "outputs": [],
   "source": []
  }
 ],
 "metadata": {
  "kernelspec": {
   "display_name": "Python 3 (ipykernel)",
   "language": "python",
   "name": "python3"
  },
  "language_info": {
   "codemirror_mode": {
    "name": "ipython",
    "version": 3
   },
   "file_extension": ".py",
   "mimetype": "text/x-python",
   "name": "python",
   "nbconvert_exporter": "python",
   "pygments_lexer": "ipython3",
   "version": "3.11.0"
  }
 },
 "nbformat": 4,
 "nbformat_minor": 5
}
