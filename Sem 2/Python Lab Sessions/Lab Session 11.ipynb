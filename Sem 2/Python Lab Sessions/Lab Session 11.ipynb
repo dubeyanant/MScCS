{
 "cells": [
  {
   "cell_type": "code",
   "execution_count": null,
   "id": "25d806fc",
   "metadata": {},
   "outputs": [],
   "source": [
    "#Lab Session 11\n",
    "#Name: Anant Dubey\n",
    "#PRN: 1132220920"
   ]
  },
  {
   "cell_type": "code",
   "execution_count": 2,
   "id": "5cb7ae2b",
   "metadata": {},
   "outputs": [
    {
     "data": {
      "text/plain": [
       "(1, 6)"
      ]
     },
     "execution_count": 2,
     "metadata": {},
     "output_type": "execute_result"
    }
   ],
   "source": [
    "#Q1\n",
    "\n",
    "import numpy as np\n",
    "a = np.arange(6)\n",
    "a2 = a[np.newaxis, :]\n",
    "a2.shape"
   ]
  },
  {
   "cell_type": "code",
   "execution_count": 3,
   "id": "9186fe25",
   "metadata": {},
   "outputs": [
    {
     "name": "stdout",
     "output_type": "stream",
     "text": [
      "[1 2 3 4]\n"
     ]
    }
   ],
   "source": [
    "#Array in NumPy\n",
    "\n",
    "a = np.array([1, 2, 3, 4, 5, 6])\n",
    "a = np.array([[1, 2, 3, 4], [5, 6, 7, 8], [9, 10, 11, 12]])\n",
    "print(a[0])"
   ]
  },
  {
   "cell_type": "code",
   "execution_count": 4,
   "id": "ab75cea0",
   "metadata": {},
   "outputs": [
    {
     "data": {
      "text/plain": [
       "array([1, 2, 3, 4, 5, 6, 7, 8])"
      ]
     },
     "execution_count": 4,
     "metadata": {},
     "output_type": "execute_result"
    }
   ],
   "source": [
    "#Sorting array elements\n",
    "\n",
    "arr = np.array([2, 1, 5, 3, 7, 4, 6, 8])\n",
    "np.sort(arr)"
   ]
  },
  {
   "cell_type": "code",
   "execution_count": 5,
   "id": "ece4df78",
   "metadata": {},
   "outputs": [
    {
     "data": {
      "text/plain": [
       "array([1, 2, 3, 4, 5, 6, 7, 8])"
      ]
     },
     "execution_count": 5,
     "metadata": {},
     "output_type": "execute_result"
    }
   ],
   "source": [
    "#Concatenation \n",
    "\n",
    "a = np.array([1, 2, 3, 4])\n",
    "b = np.array([5, 6, 7, 8])\n",
    "\n",
    "np.concatenate((a, b))"
   ]
  },
  {
   "cell_type": "code",
   "execution_count": 6,
   "id": "89527c1a",
   "metadata": {},
   "outputs": [
    {
     "name": "stdout",
     "output_type": "stream",
     "text": [
      "(2, 4)\n"
     ]
    }
   ],
   "source": [
    "#Printing the shape of an array\n",
    "\n",
    "arr = np.array([[1, 2, 3, 4], [5, 6, 7, 8]])\n",
    "\n",
    "print(arr.shape)"
   ]
  },
  {
   "cell_type": "code",
   "execution_count": 7,
   "id": "a067d3e6",
   "metadata": {},
   "outputs": [
    {
     "name": "stdout",
     "output_type": "stream",
     "text": [
      "[[[[[1 2 3 4]]]]]\n",
      "shape of array : (1, 1, 1, 1, 4)\n"
     ]
    }
   ],
   "source": [
    "arr = np.array([1, 2, 3, 4], ndmin=5)\n",
    "\n",
    "print(arr)\n",
    "print('shape of array :', arr.shape)\n"
   ]
  },
  {
   "cell_type": "code",
   "execution_count": 8,
   "id": "c4523a6a",
   "metadata": {},
   "outputs": [
    {
     "name": "stdout",
     "output_type": "stream",
     "text": [
      "[[ 1  2  3]\n",
      " [ 4  5  6]\n",
      " [ 7  8  9]\n",
      " [10 11 12]]\n"
     ]
    }
   ],
   "source": [
    "#Converting 1-D to 2-D\n",
    "\n",
    "arr = np.array([1, 2, 3, 4, 5, 6, 7, 8, 9, 10, 11, 12])\n",
    "\n",
    "newarr = arr.reshape(4, 3)\n",
    "\n",
    "print(newarr)"
   ]
  },
  {
   "cell_type": "code",
   "execution_count": 9,
   "id": "bdca5b11",
   "metadata": {},
   "outputs": [
    {
     "name": "stdout",
     "output_type": "stream",
     "text": [
      "[[[ 1  2]\n",
      "  [ 3  4]\n",
      "  [ 5  6]]\n",
      "\n",
      " [[ 7  8]\n",
      "  [ 9 10]\n",
      "  [11 12]]]\n"
     ]
    }
   ],
   "source": [
    "#Converting from 1-D to 3-D\n",
    "\n",
    "arr = np.array([1, 2, 3, 4, 5, 6, 7, 8, 9, 10, 11, 12])\n",
    "\n",
    "newarr = arr.reshape(2, 3, 2)\n",
    "\n",
    "print(newarr)"
   ]
  },
  {
   "cell_type": "code",
   "execution_count": 10,
   "id": "e57bb177",
   "metadata": {},
   "outputs": [
    {
     "name": "stdout",
     "output_type": "stream",
     "text": [
      "1\n",
      "2\n",
      "3\n"
     ]
    }
   ],
   "source": [
    "#Iterating Arrays\n",
    "\n",
    "arr = np.array([1, 2, 3])\n",
    "\n",
    "for x in arr:\n",
    "  print(x)"
   ]
  },
  {
   "cell_type": "code",
   "execution_count": 11,
   "id": "52dce7a7",
   "metadata": {},
   "outputs": [
    {
     "name": "stdout",
     "output_type": "stream",
     "text": [
      "1\n",
      "2\n",
      "3\n",
      "4\n",
      "5\n",
      "6\n"
     ]
    }
   ],
   "source": [
    "#iterating through each scalar element of 2-D array\n",
    "\n",
    "arr = np.array([[1, 2, 3], [4, 5, 6]])\n",
    "\n",
    "for x in arr:\n",
    "  for y in x:\n",
    "    print(y)"
   ]
  },
  {
   "cell_type": "code",
   "execution_count": 12,
   "id": "f9d4d97a",
   "metadata": {},
   "outputs": [
    {
     "name": "stdout",
     "output_type": "stream",
     "text": [
      "[1 2 3 4 5 6]\n"
     ]
    }
   ],
   "source": [
    "#joining two arrays\n",
    "\n",
    "arr1 = np.array([1, 2, 3])\n",
    "\n",
    "arr2 = np.array([4, 5, 6])\n",
    "\n",
    "arr = np.concatenate((arr1, arr2))\n",
    "\n",
    "print(arr)"
   ]
  },
  {
   "cell_type": "code",
   "execution_count": 13,
   "id": "2f4da282",
   "metadata": {},
   "outputs": [
    {
     "name": "stdout",
     "output_type": "stream",
     "text": [
      "[[1 2 5 6]\n",
      " [3 4 7 8]]\n"
     ]
    }
   ],
   "source": [
    "#joining two 2-D arrays along rows\n",
    "\n",
    "\n",
    "arr1 = np.array([[1, 2], [3, 4]])\n",
    "\n",
    "arr2 = np.array([[5, 6], [7, 8]])\n",
    "\n",
    "arr = np.concatenate((arr1, arr2), axis=1)\n",
    "\n",
    "print(arr)"
   ]
  },
  {
   "cell_type": "code",
   "execution_count": 14,
   "id": "478143a6",
   "metadata": {},
   "outputs": [
    {
     "name": "stdout",
     "output_type": "stream",
     "text": [
      "[[1 4]\n",
      " [2 5]\n",
      " [3 6]]\n"
     ]
    }
   ],
   "source": [
    "#Joining array using stack function\n",
    "\n",
    "arr1 = np.array([1, 2, 3])\n",
    "\n",
    "arr2 = np.array([4, 5, 6])\n",
    "\n",
    "arr = np.stack((arr1, arr2), axis=1)\n",
    "\n",
    "print(arr)"
   ]
  },
  {
   "cell_type": "code",
   "execution_count": 15,
   "id": "73c9860f",
   "metadata": {},
   "outputs": [
    {
     "name": "stdout",
     "output_type": "stream",
     "text": [
      "[array([1, 2]), array([3, 4]), array([5, 6])]\n"
     ]
    }
   ],
   "source": [
    "#Splitting numpy arrays\n",
    "\n",
    "arr = np.array([1, 2, 3, 4, 5, 6])\n",
    "\n",
    "newarr = np.array_split(arr, 3)\n",
    "\n",
    "print(newarr)"
   ]
  },
  {
   "cell_type": "code",
   "execution_count": 16,
   "id": "74e7e7c3",
   "metadata": {
    "scrolled": true
   },
   "outputs": [
    {
     "name": "stdout",
     "output_type": "stream",
     "text": [
      "[array([[1, 2],\n",
      "       [3, 4]]), array([[5, 6],\n",
      "       [7, 8]]), array([[ 9, 10],\n",
      "       [11, 12]])]\n"
     ]
    }
   ],
   "source": [
    "#Splitting 2-D Arrays\n",
    "\n",
    "arr = np.array([[1, 2], [3, 4], [5, 6], [7, 8], [9, 10], [11, 12]])\n",
    "\n",
    "newarr = np.array_split(arr, 3)\n",
    "\n",
    "print(newarr)"
   ]
  },
  {
   "cell_type": "code",
   "execution_count": 17,
   "id": "98c9aba8",
   "metadata": {},
   "outputs": [
    {
     "name": "stdout",
     "output_type": "stream",
     "text": [
      "[array([[1, 2, 3],\n",
      "       [4, 5, 6]]), array([[ 7,  8,  9],\n",
      "       [10, 11, 12]]), array([[13, 14, 15],\n",
      "       [16, 17, 18]])]\n"
     ]
    }
   ],
   "source": [
    "#Splitting 2-D into three 2-D arrays\n",
    "\n",
    "arr = np.array([[1, 2, 3], [4, 5, 6], [7, 8, 9], [10, 11, 12], [13, 14, 15], [16, 17, 18]])\n",
    "\n",
    "newarr = np.array_split(arr, 3)\n",
    "\n",
    "print(newarr)"
   ]
  },
  {
   "cell_type": "code",
   "execution_count": 18,
   "id": "e558f0a6",
   "metadata": {},
   "outputs": [
    {
     "name": "stdout",
     "output_type": "stream",
     "text": [
      "(array([3, 5, 6], dtype=int64),)\n"
     ]
    }
   ],
   "source": [
    "#Searching arrays\n",
    "#Finding indexes where value is 4 \n",
    "\n",
    "arr = np.array([1, 2, 3, 4, 5, 4, 4])\n",
    "\n",
    "x = np.where(arr == 4)\n",
    "\n",
    "print(x)"
   ]
  },
  {
   "cell_type": "code",
   "execution_count": 19,
   "id": "c1c5853e",
   "metadata": {},
   "outputs": [
    {
     "name": "stdout",
     "output_type": "stream",
     "text": [
      "(array([1, 3, 5, 7], dtype=int64),)\n"
     ]
    }
   ],
   "source": [
    "#Finding indexes where value is even\n",
    "\n",
    "arr = np.array([1, 2, 3, 4, 5, 6, 7, 8])\n",
    "\n",
    "x = np.where(arr%2 == 0)\n",
    "\n",
    "print(x)"
   ]
  },
  {
   "cell_type": "code",
   "execution_count": 20,
   "id": "418f5b67",
   "metadata": {},
   "outputs": [
    {
     "name": "stdout",
     "output_type": "stream",
     "text": [
      "[2. 4. 3. 1. 5. 7.]\n"
     ]
    }
   ],
   "source": [
    "#Q2\n",
    "\n",
    "#Mathematical Functions\n",
    "import numpy as np\n",
    "\n",
    "#initialize a list\n",
    "listA = [4, 16, 9, 1, 25, 49]\n",
    "\n",
    "#Square Root\n",
    "\n",
    "#find square root of items in the list\n",
    "output = np.sqrt(listA)\n",
    "print(output)"
   ]
  },
  {
   "cell_type": "code",
   "execution_count": 21,
   "id": "5605a6ca",
   "metadata": {},
   "outputs": [
    {
     "name": "stdout",
     "output_type": "stream",
     "text": [
      "[2.01532946+0.24809839j 3.69848346+2.16304875j]\n"
     ]
    }
   ],
   "source": [
    "#Square root of complex numbers\n",
    "\n",
    "#initialize a list\n",
    "listA = [4+1j, 9+16j]\n",
    "\n",
    "#find square root of items in the list\n",
    "output = np.sqrt(listA)\n",
    "\n",
    "print(output)"
   ]
  },
  {
   "cell_type": "code",
   "execution_count": 22,
   "id": "60aff280",
   "metadata": {},
   "outputs": [
    {
     "name": "stdout",
     "output_type": "stream",
     "text": [
      "[nan  3.]\n"
     ]
    },
    {
     "name": "stderr",
     "output_type": "stream",
     "text": [
      "C:\\Users\\anant\\AppData\\Local\\Temp\\ipykernel_14044\\3062388682.py:7: RuntimeWarning: invalid value encountered in sqrt\n",
      "  output = np.sqrt(listA)\n"
     ]
    }
   ],
   "source": [
    "#Square root of negative answers\n",
    "\n",
    "#initialize a list\n",
    "listA = [-4, 9]\n",
    "\n",
    "#find square root of items in the list\n",
    "output = np.sqrt(listA)\n",
    "\n",
    "print(output)"
   ]
  },
  {
   "cell_type": "code",
   "execution_count": 23,
   "id": "22fa9a4a",
   "metadata": {},
   "outputs": [
    {
     "name": "stdout",
     "output_type": "stream",
     "text": [
      "3.0\n"
     ]
    }
   ],
   "source": [
    "#Mean\n",
    "\n",
    "#Mean of numpy array \n",
    "\n",
    "A = np.array([[2, 1], [5, 4]])\n",
    "\n",
    "#compute mean\n",
    "output = np.mean(A)\n",
    "\n",
    "print(output)"
   ]
  },
  {
   "cell_type": "code",
   "execution_count": 24,
   "id": "ff1a15c5",
   "metadata": {},
   "outputs": [
    {
     "name": "stdout",
     "output_type": "stream",
     "text": [
      "[3.5 2.5]\n"
     ]
    }
   ],
   "source": [
    "#Mean of numpy array along an axis\n",
    "\n",
    "A = np.array([[2, 1], [5, 4]])\n",
    "\n",
    "#compute mean\n",
    "output = np.mean(A, axis=0)\n",
    "\n",
    "print(output)"
   ]
  },
  {
   "cell_type": "code",
   "execution_count": 25,
   "id": "aa2f7993",
   "metadata": {},
   "outputs": [
    {
     "name": "stdout",
     "output_type": "stream",
     "text": [
      "[4.  5.5]\n"
     ]
    }
   ],
   "source": [
    "#Mean of numpy array along multiple axis\n",
    "\n",
    "#initialize array\n",
    "A = np.array([[[2, 1], [5, 4]], [[3, 9], [6, 8]]])\n",
    "\n",
    "#compute mean\n",
    "output = np.mean(A, axis=(0, 1))\n",
    "\n",
    "print(output)"
   ]
  },
  {
   "cell_type": "code",
   "execution_count": 26,
   "id": "0e1e048a",
   "metadata": {},
   "outputs": [
    {
     "name": "stdout",
     "output_type": "stream",
     "text": [
      "array\n",
      " [[1 4 4 1 9]\n",
      " [6 8 4 5 6]\n",
      " [5 3 0 8 0]\n",
      " [5 2 4 7 6]]\n",
      "Maximum value in array\n",
      " 9\n"
     ]
    }
   ],
   "source": [
    "#NumPy Maximum Value\n",
    "\n",
    "#Max value of numpy array \n",
    "\n",
    "arr = np.random.randint(10, size=(4,5))\n",
    "print('array\\n', arr)\n",
    "#find maximum value\n",
    "max_value = np.max(arr)\n",
    "print('Maximum value in array\\n',max_value)"
   ]
  },
  {
   "cell_type": "code",
   "execution_count": 27,
   "id": "27e36bf5",
   "metadata": {},
   "outputs": [
    {
     "name": "stdout",
     "output_type": "stream",
     "text": [
      "array\n",
      " [[0.40481    0.78718898 0.01428442]\n",
      " [0.13046558 0.56463086 0.3741523 ]]\n",
      "Maximum value in array\n",
      " 0.7871889836915421\n"
     ]
    }
   ],
   "source": [
    "# Maximum value of numpy array with float values\n",
    "\n",
    "arr = np.random.rand(6).reshape(2,3)\n",
    "print('array\\n', arr)\n",
    "#find maximum value\n",
    "max_value = np.max(arr)\n",
    "print('Maximum value in array\\n',max_value)"
   ]
  },
  {
   "cell_type": "code",
   "execution_count": 28,
   "id": "305ea638",
   "metadata": {},
   "outputs": [
    {
     "name": "stdout",
     "output_type": "stream",
     "text": [
      "2.160246899469287\n"
     ]
    }
   ],
   "source": [
    "#NumPy Standard Deviation\n",
    "\n",
    "#SD of 1-D Array \n",
    "\n",
    "A = np.array([2, 1, 6])\n",
    "\n",
    "#compute standard deviation\n",
    "output = np.std(A)\n",
    "\n",
    "print(output)"
   ]
  },
  {
   "cell_type": "code",
   "execution_count": 29,
   "id": "3e7b9fe9",
   "metadata": {},
   "outputs": [
    {
     "name": "stdout",
     "output_type": "stream",
     "text": [
      "1.5811388300841898\n"
     ]
    }
   ],
   "source": [
    "#SD of 2-D Array \n",
    "\n",
    "#initialize array\n",
    "A = np.array([[2, 3], [6, 5]])\n",
    "\n",
    "#compute standard deviation\n",
    "output = np.std(A)\n",
    "\n",
    "print(output)"
   ]
  },
  {
   "cell_type": "code",
   "execution_count": 30,
   "id": "92d602d5",
   "metadata": {},
   "outputs": [
    {
     "name": "stdout",
     "output_type": "stream",
     "text": [
      "[2. 1.]\n"
     ]
    }
   ],
   "source": [
    "#Standard Deviation of array along an axis\n",
    "\n",
    "#initialize array\n",
    "A = np.array([[2, 3], [6, 5]])\n",
    "\n",
    "#compute standard deviation\n",
    "output = np.std(A, axis=0)\n",
    "\n",
    "print(output)"
   ]
  },
  {
   "cell_type": "code",
   "execution_count": 31,
   "id": "655b5685",
   "metadata": {},
   "outputs": [
    {
     "name": "stdout",
     "output_type": "stream",
     "text": [
      "Numpy Array :\n",
      " [[1 2]\n",
      " [3 4]]\n",
      "\n",
      "List :\n",
      " [[1, 2], [3, 4]]\n"
     ]
    }
   ],
   "source": [
    "#NumPy Convert Array to a Python List\n",
    "\n",
    "import numpy\n",
    "\n",
    "arr = numpy.array([[1, 2], [3, 4]])\n",
    "x = arr.tolist()\n",
    "\n",
    "print(\"Numpy Array :\\n\", arr)\n",
    "print(\"\\nList :\\n\", x)"
   ]
  },
  {
   "cell_type": "code",
   "execution_count": 32,
   "id": "ac9da276",
   "metadata": {},
   "outputs": [
    {
     "name": "stdout",
     "output_type": "stream",
     "text": [
      "True\n"
     ]
    }
   ],
   "source": [
    "#NumPy logical Functions\n",
    "\n",
    "#Check if all elements in array are True\n",
    "\n",
    "arr = np.array([[True,True],[True,True]])\n",
    "result = np.all(arr)\n",
    "print(result)"
   ]
  },
  {
   "cell_type": "code",
   "execution_count": 33,
   "id": "384769ad",
   "metadata": {},
   "outputs": [
    {
     "name": "stdout",
     "output_type": "stream",
     "text": [
      "[ True False False]\n"
     ]
    }
   ],
   "source": [
    "#Check if all elements in array are True along an axis\n",
    "\n",
    "arr = np.array([[True,True], [True,False], [True,False]])\n",
    "result = np.all(arr, axis=1)\n",
    "print(result)"
   ]
  },
  {
   "cell_type": "code",
   "execution_count": 34,
   "id": "4f6962e4",
   "metadata": {},
   "outputs": [
    {
     "name": "stdout",
     "output_type": "stream",
     "text": [
      "input\n",
      " [4 5 3 7]\n",
      "sum\n",
      " 19\n"
     ]
    }
   ],
   "source": [
    "#NumPy Sum \n",
    "\n",
    "a = np.array([4, 5, 3, 7])\n",
    "print('input\\n',a)\n",
    "\n",
    "b = np.sum(a)\n",
    "print('sum\\n',b)"
   ]
  },
  {
   "cell_type": "code",
   "execution_count": 35,
   "id": "1e038282",
   "metadata": {},
   "outputs": [
    {
     "name": "stdout",
     "output_type": "stream",
     "text": [
      "List : [1, 2, 4, 8, 16, 32]\n",
      "Numpy Array : [ 1  2  4  8 16 32]\n"
     ]
    }
   ],
   "source": [
    "#Convert List to NumPy Array \n",
    "\n",
    "x = list([1, 2, 4, 8, 16, 32])\n",
    "arr = numpy.array(x)\n",
    "\n",
    "print(\"List :\", x)\n",
    "print(\"Numpy Array :\", arr)"
   ]
  }
 ],
 "metadata": {
  "kernelspec": {
   "display_name": "Python 3 (ipykernel)",
   "language": "python",
   "name": "python3"
  },
  "language_info": {
   "codemirror_mode": {
    "name": "ipython",
    "version": 3
   },
   "file_extension": ".py",
   "mimetype": "text/x-python",
   "name": "python",
   "nbconvert_exporter": "python",
   "pygments_lexer": "ipython3",
   "version": "3.11.0"
  }
 },
 "nbformat": 4,
 "nbformat_minor": 5
}
