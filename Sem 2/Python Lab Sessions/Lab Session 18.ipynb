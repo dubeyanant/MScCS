{
 "cells": [
  {
   "cell_type": "code",
   "execution_count": null,
   "id": "d6f46220",
   "metadata": {},
   "outputs": [],
   "source": [
    "#Lab Session 18\n",
    "#Name: Anant Dubey\n",
    "#PRN: 1132220920"
   ]
  },
  {
   "cell_type": "code",
   "execution_count": 1,
   "id": "671cffb0",
   "metadata": {},
   "outputs": [
    {
     "name": "stdout",
     "output_type": "stream",
     "text": [
      "12\n",
      "18\n",
      "[2, 4, 68]\n",
      "[4, 2, 6, 10, 8, 12, 14, 18, 16, 20, 22, 24]\n"
     ]
    }
   ],
   "source": [
    "#Q1\n",
    "\n",
    "mult= lambda num: num * 2\n",
    "print(mult(6))\n",
    "add = lambda n1,n2,n3 : n1+n2+n3\n",
    "print(add(10,5,3))\n",
    "#filter function\n",
    "listnum = [1,2,3,4,5,68,7,9]\n",
    "reslist = list(filter(lambda num: (num % 2 == 0) , listnum))\n",
    "print(reslist)\n",
    "#map\n",
    "listmult = [2,1,3,5,4,6,7,9,8,10,11,12]\n",
    "resmult = list(map(lambda num: num * 2 , listmult))\n",
    "print(resmult)"
   ]
  },
  {
   "cell_type": "code",
   "execution_count": 5,
   "id": "977529bb",
   "metadata": {},
   "outputs": [
    {
     "name": "stdout",
     "output_type": "stream",
     "text": [
      "Even numbers in the list are: [2, 4, 6, 8, 10]\n"
     ]
    }
   ],
   "source": [
    "#Q2\n",
    "\n",
    "# Define the list\n",
    "numbers = [1, 2, 3, 4, 5, 6, 7, 8, 9, 10]\n",
    "\n",
    "# Function to filter even numbers\n",
    "def is_even(number):\n",
    "    return number % 2 == 0\n",
    "\n",
    "# Use filter() to filter even numbers from the list\n",
    "even_numbers = list(filter(is_even, numbers))\n",
    "\n",
    "# Print the filtered list of even numbers\n",
    "print(\"Even numbers in the list are:\", even_numbers)\n"
   ]
  },
  {
   "cell_type": "code",
   "execution_count": 6,
   "id": "5644d9b7",
   "metadata": {},
   "outputs": [
    {
     "name": "stdout",
     "output_type": "stream",
     "text": [
      "List of squares of elements: [1, 4, 9, 16, 25, 36, 49, 64, 81, 100]\n"
     ]
    }
   ],
   "source": [
    "#Q3\n",
    "\n",
    "# Define the list\n",
    "numbers = [1, 2, 3, 4, 5, 6, 7, 8, 9, 10]\n",
    "\n",
    "# Use map() to generate a list of squares using a lambda function\n",
    "squares = list(map(lambda x: x**2, numbers))\n",
    "\n",
    "# Print the list of squares\n",
    "print(\"List of squares of elements:\", squares)\n"
   ]
  },
  {
   "cell_type": "code",
   "execution_count": 7,
   "id": "56b3bddd",
   "metadata": {},
   "outputs": [
    {
     "name": "stdout",
     "output_type": "stream",
     "text": [
      "List of squares of even numbers: [4, 16, 36, 64, 100]\n"
     ]
    }
   ],
   "source": [
    "#Q4\n",
    "\n",
    "# Define the list\n",
    "numbers = [1, 2, 3, 4, 5, 6, 7, 8, 9, 10]\n",
    "\n",
    "# Use filter() to filter even numbers\n",
    "even_numbers = list(filter(lambda x: x % 2 == 0, numbers))\n",
    "\n",
    "# Use map() to generate a list of squares using a lambda function\n",
    "squares = list(map(lambda x: x**2, even_numbers))\n",
    "\n",
    "# Print the list of squares\n",
    "print(\"List of squares of even numbers:\", squares)\n"
   ]
  },
  {
   "cell_type": "code",
   "execution_count": 8,
   "id": "73d18d45",
   "metadata": {},
   "outputs": [
    {
     "name": "stdout",
     "output_type": "stream",
     "text": [
      "List of even numbers between 1 and 20 : [2, 4, 6, 8, 10, 12, 14, 16, 18, 20]\n"
     ]
    }
   ],
   "source": [
    "#Q5\n",
    "\n",
    "# Define the range of numbers\n",
    "start = 1\n",
    "end = 20\n",
    "\n",
    "# Function to filter even numbers\n",
    "def is_even(number):\n",
    "    return number % 2 == 0\n",
    "\n",
    "# Use filter() to filter even numbers in the range\n",
    "even_numbers = list(filter(is_even, range(start, end + 1)))\n",
    "\n",
    "# Print the list of even numbers\n",
    "print(\"List of even numbers between\", start, \"and\", end, \":\", even_numbers)\n"
   ]
  },
  {
   "cell_type": "code",
   "execution_count": 9,
   "id": "34798582",
   "metadata": {},
   "outputs": [
    {
     "name": "stdout",
     "output_type": "stream",
     "text": [
      "List of squares of numbers between 1 and 20 : [1, 4, 9, 16, 25, 36, 49, 64, 81, 100, 121, 144, 169, 196, 225, 256, 289, 324, 361, 400]\n"
     ]
    }
   ],
   "source": [
    "# Q6\n",
    "\n",
    "# Define the range of numbers\n",
    "start = 1\n",
    "end = 20\n",
    "\n",
    "# Use map() to generate a list of squares\n",
    "squares = list(map(lambda x: x**2, range(start, end + 1)))\n",
    "\n",
    "# Print the list of squares\n",
    "print(\"List of squares of numbers between\", start, \"and\", end, \":\", squares)\n"
   ]
  },
  {
   "cell_type": "code",
   "execution_count": 10,
   "id": "3fa6bdbd",
   "metadata": {},
   "outputs": [
    {
     "name": "stdout",
     "output_type": "stream",
     "text": [
      "Month names with length 7: ['January', 'October']\n"
     ]
    }
   ],
   "source": [
    "# Q7\n",
    "\n",
    "# List of month names\n",
    "months = [\"January\", \"February\", \"March\", \"April\", \"May\", \"June\", \"July\", \"August\", \"September\", \"October\", \"November\", \"December\"]\n",
    "\n",
    "# Use filter() with lambda to filter month names with length 7\n",
    "filtered_months = list(filter(lambda x: len(x) == 7, months))\n",
    "\n",
    "# Print the filtered month names\n",
    "print(\"Month names with length 7:\", filtered_months)\n"
   ]
  },
  {
   "cell_type": "code",
   "execution_count": 11,
   "id": "1068b111",
   "metadata": {},
   "outputs": [
    {
     "name": "stdout",
     "output_type": "stream",
     "text": [
      "Palindromes in the list of strings: ['racecar', 'level', 'madam']\n"
     ]
    }
   ],
   "source": [
    "# Q8\n",
    "\n",
    "# List of strings\n",
    "strings = [\"racecar\", \"python\", \"level\", \"madam\", \"hello\"]\n",
    "\n",
    "# Define a lambda function to check if a string is a palindrome\n",
    "is_palindrome = lambda s: s == s[::-1]\n",
    "\n",
    "# Use filter() with lambda to filter out palindromes from the list of strings\n",
    "palindromes = list(filter(is_palindrome, strings))\n",
    "\n",
    "# Print the palindromes\n",
    "print(\"Palindromes in the list of strings:\", palindromes)\n"
   ]
  },
  {
   "cell_type": "code",
   "execution_count": 12,
   "id": "8ae70db7",
   "metadata": {},
   "outputs": [
    {
     "name": "stdout",
     "output_type": "stream",
     "text": [
      "Reversed strings in the list: ['olleh', 'dlrow', 'nohtyp', 'adbmal']\n"
     ]
    }
   ],
   "source": [
    "# Q9\n",
    "\n",
    "# List of strings\n",
    "strings = [\"hello\", \"world\", \"python\", \"lambda\"]\n",
    "\n",
    "# Define a lambda function to reverse a string\n",
    "reverse_string = lambda s: s[::-1]\n",
    "\n",
    "# Use map() with lambda to reverse strings in the list\n",
    "reversed_strings = list(map(reverse_string, strings))\n",
    "\n",
    "# Print the reversed strings\n",
    "print(\"Reversed strings in the list:\", reversed_strings)\n"
   ]
  }
 ],
 "metadata": {
  "kernelspec": {
   "display_name": "Python 3 (ipykernel)",
   "language": "python",
   "name": "python3"
  },
  "language_info": {
   "codemirror_mode": {
    "name": "ipython",
    "version": 3
   },
   "file_extension": ".py",
   "mimetype": "text/x-python",
   "name": "python",
   "nbconvert_exporter": "python",
   "pygments_lexer": "ipython3",
   "version": "3.11.0"
  }
 },
 "nbformat": 4,
 "nbformat_minor": 5
}
