{
 "cells": [
  {
   "cell_type": "code",
   "execution_count": 1,
   "id": "0897f525",
   "metadata": {},
   "outputs": [
    {
     "name": "stdout",
     "output_type": "stream",
     "text": [
      "[20, 19, 18, 17, 16, 15, 14, 13, 12, 11, 10, 9, 8, 7, 6, 5, 4, 3, 2, 1]\n"
     ]
    }
   ],
   "source": [
    "# 2. Create list of 20 elements and display it in the reverse order.\n",
    "var20 = [1, 2, 3, 4, 5, 6, 7, 8, 9, 10, 11, 12, 13, 14, 15, 16, 17, 18, 19, 20]\n",
    "print(var20[::-1])"
   ]
  },
  {
   "cell_type": "code",
   "execution_count": 3,
   "id": "250dd537",
   "metadata": {},
   "outputs": [
    {
     "name": "stdout",
     "output_type": "stream",
     "text": [
      "[1, 2, 3, 4, 5, 6, 7, 8, 9, 10]\n"
     ]
    }
   ],
   "source": [
    "# 3. Create List1 of 5 elements and list2 of 5 elements. Combine both the lists and display it.\n",
    "List1 = [1, 2, 3, 4, 5]\n",
    "List2 = [6, 7, 8, 9, 10]\n",
    "List1.extend(List2)\n",
    "print(List1)"
   ]
  },
  {
   "cell_type": "code",
   "execution_count": 4,
   "id": "4f69b37a",
   "metadata": {},
   "outputs": [
    {
     "name": "stdout",
     "output_type": "stream",
     "text": [
      "[1, 2, [3, 4, [5, 6, 7], 8], 9, 10]\n"
     ]
    }
   ],
   "source": [
    "# 4. Display the following output: [1,2,[3,4,[5,6,7],8],9,10]\n",
    "print([1,2,[3,4,[5,6,7],8],9,10])"
   ]
  },
  {
   "cell_type": "code",
   "execution_count": 7,
   "id": "8b2efd6b",
   "metadata": {},
   "outputs": [
    {
     "name": "stdout",
     "output_type": "stream",
     "text": [
      "[10, 30, 40, 10, 50]\n"
     ]
    }
   ],
   "source": [
    "# 5. Consider following list of numbers [20,30,40,20,50], find and replace first occurrence of 20 with 10.\n",
    "list20 = [20, 30, 40, 20, 50]\n",
    "for index, item in enumerate(list20):\n",
    "    if item == 20:\n",
    "        list20[index] = 10\n",
    "print(list20)"
   ]
  },
  {
   "cell_type": "code",
   "execution_count": 11,
   "id": "21af0f6d",
   "metadata": {},
   "outputs": [
    {
     "name": "stdout",
     "output_type": "stream",
     "text": [
      "['AI', 'ADS', 'NGD', 'Peace', 'Android']\n"
     ]
    }
   ],
   "source": [
    "# 6. Create a list of your Semester 2 subjects. At 3rd position add Elective as subject.\n",
    "subjects = ['AI', 'ADS', 'Peace', 'Android']\n",
    "subjects.insert(2, 'NGD')\n",
    "print(subjects)"
   ]
  },
  {
   "cell_type": "code",
   "execution_count": 15,
   "id": "358390e4",
   "metadata": {},
   "outputs": [
    {
     "name": "stdout",
     "output_type": "stream",
     "text": [
      "Sum of the elements in the list:  55\n"
     ]
    }
   ],
   "source": [
    "# 7. Create a list of 10 numbers and display sum of the numbers.\n",
    "listSum = [1, 2, 3, 4, 5, 6, 7, 8, 9, 10]\n",
    "total = 0\n",
    "for i in range(0, len(listSum)):\n",
    "    total = total + listSum[i]\n",
    "    \n",
    "print(\"Sum of the elements in the list: \", total)"
   ]
  },
  {
   "cell_type": "code",
   "execution_count": 27,
   "id": "99622864",
   "metadata": {},
   "outputs": [
    {
     "name": "stdout",
     "output_type": "stream",
     "text": [
      "[1, 4, 6]\n",
      "[4, 6, 7, 9]\n",
      "0\n",
      "[9, 7, 6, 4, 1, 0]\n"
     ]
    }
   ],
   "source": [
    "# 8. Consider [1,4,6,7,9,0] Display the elements from the index as per the following.\n",
    "# a) First three elements.\n",
    "list = [1,4,6,7,9,0]\n",
    "print(list[0:3])\n",
    "\n",
    "# b) Elements omitting the first and last elements.\n",
    "print(list[1:5])\n",
    "\n",
    "# c) Last element.\n",
    "print(list[-1])\n",
    "\n",
    "# d) Sort the list in the descending order.\n",
    "list.sort(reverse = True)\n",
    "print(list)"
   ]
  },
  {
   "cell_type": "code",
   "execution_count": 32,
   "id": "30d9935a",
   "metadata": {},
   "outputs": [
    {
     "name": "stdout",
     "output_type": "stream",
     "text": [
      "[3, 4, 5, 6]\n"
     ]
    }
   ],
   "source": [
    "# 9. Get the intersection of two lists. [1,2,3,4,5,6] and [3,4,5,6,7,8].\n",
    "list1 = [1,2,3,4,5,6]\n",
    "list2 = [3,4,5,6,7,8]\n",
    "\n",
    "def intersect(list1, list2): \n",
    "   return [value for value in list1 if value in list2]\n",
    "\n",
    "print(intersect(list1, list2))"
   ]
  }
 ],
 "metadata": {
  "kernelspec": {
   "display_name": "Python 3 (ipykernel)",
   "language": "python",
   "name": "python3"
  },
  "language_info": {
   "codemirror_mode": {
    "name": "ipython",
    "version": 3
   },
   "file_extension": ".py",
   "mimetype": "text/x-python",
   "name": "python",
   "nbconvert_exporter": "python",
   "pygments_lexer": "ipython3",
   "version": "3.11.0"
  }
 },
 "nbformat": 4,
 "nbformat_minor": 5
}
