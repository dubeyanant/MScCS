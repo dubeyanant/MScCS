{
 "cells": [
  {
   "cell_type": "code",
   "execution_count": 1,
   "id": "2e94c593",
   "metadata": {},
   "outputs": [
    {
     "name": "stdout",
     "output_type": "stream",
     "text": [
      "[]\n"
     ]
    }
   ],
   "source": [
    "# 1. List\n",
    "# Create a list\n",
    "list_ds =  [] # Create empty list\n",
    "print(list_ds)"
   ]
  },
  {
   "cell_type": "code",
   "execution_count": 2,
   "id": "2b161c70",
   "metadata": {},
   "outputs": [
    {
     "name": "stdout",
     "output_type": "stream",
     "text": [
      "[5, 6, 7, 'list-data', 5.555]\n"
     ]
    }
   ],
   "source": [
    "# Creating list with data\n",
    "list_ds = [5, 6, 7, 'list-data', 5.555]\n",
    "print(list_ds)"
   ]
  },
  {
   "cell_type": "code",
   "execution_count": 6,
   "id": "27bd6da2",
   "metadata": {},
   "outputs": [
    {
     "name": "stdout",
     "output_type": "stream",
     "text": [
      "[5, 6, 7]\n",
      "[5, 6, 7, [123, 45]]\n",
      "[5, 6, 7, [123, 45], 567, 'example-extend']\n",
      "[5, 6, 7, [123, 45], 567, 'example-of-insert-func', 'example-extend']\n"
     ]
    }
   ],
   "source": [
    "# Operations on list\n",
    "# Adding elements in the list\n",
    "list_ds = [5, 6, 7]\n",
    "print(list_ds)\n",
    "list_ds.append([123, 45])\n",
    "print(list_ds)\n",
    "list_ds.extend([567, 'example-extend'])\n",
    "print(list_ds)\n",
    "list_ds.insert(5, 'example-of-insert-func')\n",
    "print(list_ds)"
   ]
  },
  {
   "cell_type": "code",
   "execution_count": 7,
   "id": "2df342b2",
   "metadata": {},
   "outputs": [
    {
     "name": "stdout",
     "output_type": "stream",
     "text": [
      "5\n",
      "6\n",
      "7\n",
      "access-the-elements\n",
      "4.55\n",
      "20\n",
      "50\n",
      "[5, 6, 7, 'access-the-elements', 4.55, 20, 50]\n",
      "7\n",
      "[5, 6, 7]\n",
      "[50, 20, 4.55, 'access-the-elements', 7, 6, 5]\n"
     ]
    }
   ],
   "source": [
    "# Accessing elements in the list\n",
    "list_ds = [5, 6, 7, 'access-the-elements', 4.55, 20, 50]\n",
    "# for <variable name> in <sequence>:\n",
    "for value in list_ds:\n",
    "    print(value)\n",
    "print(list_ds)\n",
    "print(list_ds[2])\n",
    "print(list_ds[0:3])\n",
    "print(list_ds[::-1])"
   ]
  },
  {
   "cell_type": "code",
   "execution_count": 13,
   "id": "02819dba",
   "metadata": {},
   "outputs": [
    {
     "name": "stdout",
     "output_type": "stream",
     "text": [
      "[5, 6, 7, 'example-del', 6.55, 30]\n",
      "[5, 6, 7, 6.55, 30]\n",
      "Popped value:  6  Remaininig elements:  [5, 7, 6.55, 30]\n",
      "[]\n"
     ]
    }
   ],
   "source": [
    "# Deleting elements from the list\n",
    "list_ds = [5, 6, 7, 'example-del', 6.55, 20, 30]\n",
    "del list_ds[5] # Delete element at index 5\n",
    "print(list_ds)\n",
    "list_ds.remove('example-del')\n",
    "# Remove element with value\n",
    "print(list_ds)\n",
    "poped = list_ds.pop(1)\n",
    "# Pop element from list\n",
    "print('Popped value: ', poped, ' Remaininig elements: ', list_ds)\n",
    "list_ds.clear() # Empty the list\n",
    "print(list_ds)"
   ]
  }
 ],
 "metadata": {
  "kernelspec": {
   "display_name": "Python 3 (ipykernel)",
   "language": "python",
   "name": "python3"
  },
  "language_info": {
   "codemirror_mode": {
    "name": "ipython",
    "version": 3
   },
   "file_extension": ".py",
   "mimetype": "text/x-python",
   "name": "python",
   "nbconvert_exporter": "python",
   "pygments_lexer": "ipython3",
   "version": "3.11.0"
  }
 },
 "nbformat": 4,
 "nbformat_minor": 5
}
