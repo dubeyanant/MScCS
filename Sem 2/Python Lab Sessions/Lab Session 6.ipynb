{
 "cells": [
  {
   "cell_type": "code",
   "execution_count": null,
   "id": "30e09082",
   "metadata": {},
   "outputs": [],
   "source": [
    "# Lab Session 6\n",
    "# Name: Anant Dubey\n",
    "# PRN: 1132220920"
   ]
  },
  {
   "cell_type": "code",
   "execution_count": 20,
   "id": "4933a4d7",
   "metadata": {
    "scrolled": false
   },
   "outputs": [
    {
     "name": "stdout",
     "output_type": "stream",
     "text": [
      "Enter a string: My name is Anant\n",
      "Length of the string is:  16\n",
      "Replaced string is:  My name is Anant\n",
      "Word count:  4\n",
      "Find: 11\n",
      "Splited string is: ['My', 'name', 'is', 'Anant']\n",
      "My-name-is-Anant\n",
      "Capitalized string: My Name Is Anant\n"
     ]
    }
   ],
   "source": [
    "# 1. Write a program to perform following string Operations input: test = 'This is just a simple string.'\n",
    "test = input(\"Enter a string: \")\n",
    "\n",
    "print(\"Length of the string is: \", len(test))\n",
    "print(\"Replaced string is: \",test.replace(\"simple\",\"difficult\"))\n",
    "print(\"Word count: \", len(test.split()))\n",
    "print(\"Find:\",test.find(\"Anant\"))\n",
    "print(\"Splited string is:\",test.split(\" \"))\n",
    "\n",
    "print(\"-\".join(test.split(\" \")))\n",
    "print(\"Capitalized string:\", test.title())"
   ]
  },
  {
   "cell_type": "code",
   "execution_count": 26,
   "id": "0dc268f8",
   "metadata": {},
   "outputs": [
    {
     "name": "stdout",
     "output_type": "stream",
     "text": [
      "Original string:  Hello, World\n",
      "Modified string:  Hello, there!\n"
     ]
    }
   ],
   "source": [
    "# 2. Write a program to modify a string in place.\n",
    "string = \"Hello, World\"\n",
    "print(\"Original string: \",string)\n",
    "print(\"Modified string: \",string.replace(\"World\", \"there!\" ))"
   ]
  },
  {
   "cell_type": "code",
   "execution_count": 30,
   "id": "f00b956f",
   "metadata": {},
   "outputs": [
    {
     "name": "stdout",
     "output_type": "stream",
     "text": [
      "Original string: There are good, better, best, but most of the time we use good, why?\n",
      "String without duplicates: use time There best, we why? of most better, the are good, but\n"
     ]
    }
   ],
   "source": [
    "# 3. Write a program to remove duplicate words from a given string.\n",
    "def rmv(string):\n",
    "     return \" \".join(set(string.split()))\n",
    "\n",
    "sentence = \"There are good, better, best, but most of the time we use good, why?\"\n",
    "print(\"Original string:\", sentence)\n",
    "without_duplicates = rmv(sentence)\n",
    "print(\"String without duplicates:\", without_duplicates)"
   ]
  },
  {
   "cell_type": "code",
   "execution_count": 32,
   "id": "60e2f31e",
   "metadata": {},
   "outputs": [
    {
     "name": "stdout",
     "output_type": "stream",
     "text": [
      "Enter a string: Cain's@Jawbone\n",
      "String without special characters: CainsJawbone\n"
     ]
    }
   ],
   "source": [
    "# 4. Write a program to remove special characters from a given string.\n",
    "def rmv_spl(string):\n",
    "     return \"\".join(c for c in string if c.isalnum() or c.isspace())\n",
    "    \n",
    "sentence = input(\"Enter a string: \")\n",
    "without_special_characters = rmv_spl(sentence)\n",
    "print(\"String without special characters:\", without_special_characters)"
   ]
  },
  {
   "cell_type": "code",
   "execution_count": 41,
   "id": "9b6cb0e0",
   "metadata": {},
   "outputs": [
    {
     "name": "stdout",
     "output_type": "stream",
     "text": [
      "Original strings:\n",
      "Anant Dubey\n",
      "Dubey\n",
      "\n",
      "Intersection: Dubey\n"
     ]
    }
   ],
   "source": [
    "# 5. Write a program find the common values that appear in two given strings.\n",
    "def inter(str1, str2):\n",
    "     result = \"\"\n",
    "     for ch in str1:\n",
    "         if ch in str2 and not ch in result:\n",
    "             result += ch\n",
    "     return result\n",
    "\n",
    "str1 = 'Anant Dubey'\n",
    "str2 = 'Dubey'\n",
    "print(\"Original strings:\")\n",
    "print(str1)\n",
    "print(str2)\n",
    "print(\"\\nIntersection:\", inter(str1, str2))"
   ]
  },
  {
   "cell_type": "code",
   "execution_count": 13,
   "id": "4bf18f93",
   "metadata": {
    "scrolled": true
   },
   "outputs": [
    {
     "name": "stdout",
     "output_type": "stream",
     "text": [
      "Enter a string: hello world\n",
      "world hello\n"
     ]
    }
   ],
   "source": [
    "# 6. Write a program to reverse words in a string.\n",
    "print(\" \".join(list(reversed(input(\"Enter a string: \").split()))))"
   ]
  },
  {
   "cell_type": "code",
   "execution_count": 42,
   "id": "442dc93d",
   "metadata": {},
   "outputs": [
    {
     "name": "stdout",
     "output_type": "stream",
     "text": [
      "Number of vowels are: 11\n"
     ]
    }
   ],
   "source": [
    "# 7. Write a program to count the number of occurrences of all vowels present in a string.\n",
    "string=(\"A quick brown fox jumps over a lazy dog\")\n",
    "vowels=0\n",
    "for i in string:\n",
    "     if(i=='a' or i=='e' or i=='i' or i=='o' or i=='u' or i=='A' or i=='E'):\n",
    "         vowels=vowels+1\n",
    "        \n",
    "print(\"Number of vowels are:\", vowels)"
   ]
  },
  {
   "cell_type": "code",
   "execution_count": 45,
   "id": "1fd594da",
   "metadata": {},
   "outputs": [
    {
     "name": "stdout",
     "output_type": "stream",
     "text": [
      "Enter a word:malayalam\n",
      "malayalam  is a palindrome.\n"
     ]
    }
   ],
   "source": [
    "# 8. Write a program to check whether the given string is palindrome or not.\n",
    "str = input(\"Enter a word:\")\n",
    "if(str == str[::-1]):\n",
    "    print(str, \" is a palindrome.\")\n",
    "else:\n",
    "    print(str, \" is not a palindrome.\")"
   ]
  },
  {
   "cell_type": "code",
   "execution_count": 51,
   "id": "777be0a4",
   "metadata": {},
   "outputs": [
    {
     "name": "stdout",
     "output_type": "stream",
     "text": [
      "Original string: Name is Bond, James Bond.\n",
      "Alternate case string is: NaMe iS BoNd, JaMeS BoNd.\n"
     ]
    }
   ],
   "source": [
    "# 9. Write a program to convert alternate characters to capital letters.\n",
    "str1 = \"Name is Bond, James Bond.\"\n",
    "print(\"Original string:\", str1)\n",
    "\n",
    "res = \"\"\n",
    "\n",
    "for x in range(len(str1)):\n",
    "     if not x % 2:\n",
    "         res = res + str1[x].upper()\n",
    "     else:\n",
    "         res = res + str1[x].lower()\n",
    "            \n",
    "print(\"Alternate case string is:\", res)"
   ]
  },
  {
   "cell_type": "code",
   "execution_count": 54,
   "id": "ea4baf12",
   "metadata": {},
   "outputs": [
    {
     "name": "stdout",
     "output_type": "stream",
     "text": [
      "Enter a string:Hello World\n",
      "After consonants removal: eoo\n"
     ]
    }
   ],
   "source": [
    "# 10. Write a program which stores all deleted consonants in a string from the\n",
    "a = input(\"Enter a string:\")\n",
    "res = \"\".join([chr for chr in a if chr in \"aeiouAEIOU\"])\n",
    "print(\"After consonants removal:\", res)"
   ]
  },
  {
   "cell_type": "code",
   "execution_count": 56,
   "id": "200e0162",
   "metadata": {},
   "outputs": [
    {
     "name": "stdout",
     "output_type": "stream",
     "text": [
      "Enter a string(enter 'q' to quit):Hello\n",
      "Enter a string(enter 'q' to quit):World\n",
      "Enter a string(enter 'q' to quit):Thanks\n",
      "Enter a string(enter 'q' to quit):q\n",
      "HELLO\n",
      "WORLD\n",
      "THANKS\n"
     ]
    }
   ],
   "source": [
    "# 11. Write a program that accepts sequence of lines as input and prints the lines\n",
    "# after making all characters in the sentence capitalized.\n",
    "lines = []\n",
    "while True:\n",
    "     line = input(\"Enter a string(enter 'q' to quit):\")\n",
    "     if line == 'q':\n",
    "         break\n",
    "     lines.append(line.upper())\n",
    "    \n",
    "print(\"\\n\".join(lines))"
   ]
  },
  {
   "cell_type": "code",
   "execution_count": 59,
   "id": "94692cbb",
   "metadata": {},
   "outputs": [
    {
     "name": "stdout",
     "output_type": "stream",
     "text": [
      "Enter a string:Hello World\n",
      "The number of lowercase characters is: 8\n",
      "The number of uppercase characters is: 2\n"
     ]
    }
   ],
   "source": [
    "# 12. Write a program that accepts a sentence and calculate the number of upper\n",
    "# case letters and lower case letters.\n",
    "Str = input(\"Enter a string:\")\n",
    "lower = 0\n",
    "upper = 0\n",
    "for i in Str:\n",
    "     if(i.islower()):\n",
    "         lower+=1\n",
    "     elif(i.isupper()):\n",
    "         upper+=1\n",
    "            \n",
    "print(\"The number of lowercase characters is:\", lower)\n",
    "print(\"The number of uppercase characters is:\", upper)"
   ]
  }
 ],
 "metadata": {
  "kernelspec": {
   "display_name": "Python 3 (ipykernel)",
   "language": "python",
   "name": "python3"
  },
  "language_info": {
   "codemirror_mode": {
    "name": "ipython",
    "version": 3
   },
   "file_extension": ".py",
   "mimetype": "text/x-python",
   "name": "python",
   "nbconvert_exporter": "python",
   "pygments_lexer": "ipython3",
   "version": "3.11.0"
  }
 },
 "nbformat": 4,
 "nbformat_minor": 5
}
