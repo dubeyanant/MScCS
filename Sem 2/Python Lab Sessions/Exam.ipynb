{
 "cells": [
  {
   "cell_type": "code",
   "execution_count": null,
   "id": "effe9a8a",
   "metadata": {},
   "outputs": [],
   "source": [
    "# Lab on Python & Mini Project Term End Exam\n",
    "# Name: Anant Dubey\n",
    "# PRN: 1132220920"
   ]
  },
  {
   "cell_type": "code",
   "execution_count": null,
   "id": "3c05b91b",
   "metadata": {},
   "outputs": [],
   "source": [
    "#Q.1 Write a Pandas program to extract numbers less than 100 from the specified column of a given data frame."
   ]
  },
  {
   "cell_type": "code",
   "execution_count": 4,
   "id": "4636edb1",
   "metadata": {},
   "outputs": [
    {
     "name": "stdout",
     "output_type": "stream",
     "text": [
      "[50, 30, 75, 10]\n"
     ]
    }
   ],
   "source": [
    "import pandas as pd\n",
    "\n",
    "df = pd.DataFrame({'numbers': [50, 200, 30, 75, 100, 10]})\n",
    "numbers_list = []\n",
    "\n",
    "for num in df['numbers']:\n",
    "    if num < 100:\n",
    "        numbers_list.append(num)\n",
    "\n",
    "print(numbers_list)"
   ]
  },
  {
   "cell_type": "code",
   "execution_count": null,
   "id": "48eed08e",
   "metadata": {},
   "outputs": [],
   "source": [
    "#Q.2 Write a python program to combine each line from first file with the corresponding line in second file."
   ]
  },
  {
   "cell_type": "code",
   "execution_count": 23,
   "id": "45d94f2c",
   "metadata": {},
   "outputs": [
    {
     "name": "stdout",
     "output_type": "stream",
     "text": [
      "Contents of file2 after appending:\n",
      "World Hello\n",
      "Name My\n",
      "Anant Is\n"
     ]
    }
   ],
   "source": [
    "# Opening files and reading\n",
    "with open('file1.txt', 'r') as f1:\n",
    "    with open('file2.txt', 'r') as f2:\n",
    "        contents1 = f1.readlines()\n",
    "        contents2 = f2.readlines()\n",
    "\n",
    "# Appending in file 2\n",
    "with open('file2.txt', 'w') as f2:\n",
    "    for line1, line2 in zip(contents1, contents2):\n",
    "        f2.write(line2.strip() + ' ' + line1)\n",
    "\n",
    "# Display\n",
    "print(\"Contents of file2 after appending:\")\n",
    "with open('file2.txt', 'r') as f2:\n",
    "    print(f2.read())"
   ]
  }
 ],
 "metadata": {
  "kernelspec": {
   "display_name": "Python 3 (ipykernel)",
   "language": "python",
   "name": "python3"
  },
  "language_info": {
   "codemirror_mode": {
    "name": "ipython",
    "version": 3
   },
   "file_extension": ".py",
   "mimetype": "text/x-python",
   "name": "python",
   "nbconvert_exporter": "python",
   "pygments_lexer": "ipython3",
   "version": "3.11.0"
  }
 },
 "nbformat": 4,
 "nbformat_minor": 5
}
