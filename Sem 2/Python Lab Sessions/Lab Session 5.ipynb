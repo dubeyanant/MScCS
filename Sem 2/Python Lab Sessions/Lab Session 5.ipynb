{
 "cells": [
  {
   "cell_type": "code",
   "execution_count": 11,
   "id": "f14a2d9f",
   "metadata": {
    "scrolled": true
   },
   "outputs": [
    {
     "name": "stdout",
     "output_type": "stream",
     "text": [
      "Enter a number2\n",
      "The number is  2\n",
      "<class 'int'>\n",
      "11 22 23 24 25\n",
      "11@22@23@24@25$\n",
      "The value of num1 is 15 and num2 is 20\n",
      "M.Sc CS has AI and Lab on Python courses\n",
      "M.Sc CS has Lab on Python and AI courses\n",
      "Good Afternoon Everyone!! Welcome to Lab on Python course\n",
      "Hello everyone\n",
      "25\n",
      "30\n",
      "11\n",
      "I am studyingLab on Python\n",
      "I am studying Microservices\n"
     ]
    }
   ],
   "source": [
    "# Getting input from the user\n",
    "number=int(input(\"Enter a number\"))#by the default what you input is string\n",
    "print(\"The number is \",number)\n",
    "print(type(number))\n",
    "print(11,22,23,24,25)\n",
    "print(11,22,23,24,25,sep='@', end='$')\n",
    "print()\n",
    "num1=15;num2=20\n",
    "print('The value of num1 is {} and num2 is {}'.format(num1,num2))\n",
    "print('M.Sc CS has {0} and {1} courses'.format('AI','Lab on Python'))\n",
    "print('M.Sc CS has {1} and {0} courses'.format('AI','Lab on Python'))\n",
    "print('Good Afternoon {ack}!! {msg}'.format(msg = 'Welcome to Lab on Python course', ack = 'Everyone'))\n",
    "#Functions\n",
    "#simple function\n",
    "def hello():\n",
    "    print(\"Hello everyone\")\n",
    "hello()\n",
    "#function with return\n",
    "def square(num):\n",
    "    return num*num\n",
    "print(square(5))\n",
    "#function with default arguments\n",
    "def add(num1,num2=5):\n",
    "    return num1 + num2\n",
    "print(add(10,20))\n",
    "print(add(6))\n",
    "#in case you don't know the number of arguments passed\n",
    "def course(*coursenames):\n",
    "    print(\"I am studying\" + coursenames[1])\n",
    "course(\"AI\",\"Lab on Python\",\"Microservices\",\"Cloud Computing\")\n",
    "# key=value arguments\n",
    "def coursen(cn1,cn2,cn3):\n",
    "    print(\"I am studying \" + cn3)\n",
    "coursen(cn1=\"AI\",cn2=\"Lab on Python\",cn3=\"Microservices\")"
   ]
  },
  {
   "cell_type": "code",
   "execution_count": 20,
   "id": "c7f3b41f",
   "metadata": {},
   "outputs": [
    {
     "name": "stdout",
     "output_type": "stream",
     "text": [
      "Enter first integer: 3\n",
      "Enter second integer: 6\n",
      "lcm of  3 and  6 is:  6\n"
     ]
    }
   ],
   "source": [
    "# 3. Write user defined function to display LCM of a given number.\n",
    "def lcm(x, y):  \n",
    "    if x > y:  \n",
    "        greater = x  \n",
    "    else:  \n",
    "        greater = y  \n",
    "    while(True):  \n",
    "        if((greater % x == 0) and (greater % y == 0)):  \n",
    "            lcm = greater  \n",
    "            break  \n",
    "        greater += 1  \n",
    "    return lcm\n",
    "\n",
    "a = int(input(\"Enter first integer: \"))\n",
    "b = int(input(\"Enter second integer: \"))\n",
    "print(\"lcm of \", a, \"and \", b, \"is: \", lcm(a,b))"
   ]
  },
  {
   "cell_type": "code",
   "execution_count": 36,
   "id": "927a1a9b",
   "metadata": {},
   "outputs": [
    {
     "name": "stdout",
     "output_type": "stream",
     "text": [
      "Enter a number: 12\n",
      "01100"
     ]
    }
   ],
   "source": [
    "# 4. Write user defined function to convert and display Decimal to Binary.\n",
    "def DtB(num):\n",
    "    if num >= 1:\n",
    "        DtB(num // 2)\n",
    "    print(num % 2, end = '')\n",
    "    \n",
    "DtB(int(input(\"Enter a number: \")))"
   ]
  },
  {
   "cell_type": "code",
   "execution_count": 35,
   "id": "ec417908",
   "metadata": {},
   "outputs": [
    {
     "name": "stdout",
     "output_type": "stream",
     "text": [
      "Enter a number: 1001\n",
      "9"
     ]
    }
   ],
   "source": [
    "# 5. Write user defined function to convert and display Binary to Decimal.\n",
    "def BtD(binary):\n",
    "    decimal, i = 0, 0\n",
    "    while(binary != 0):\n",
    "        dec = binary % 10\n",
    "        decimal = decimal + dec * pow(2, i)\n",
    "        binary = binary//10\n",
    "        i += 1\n",
    "    print(decimal, end = '')\n",
    "    \n",
    "BtD(int(input(\"Enter a number: \")))"
   ]
  },
  {
   "cell_type": "code",
   "execution_count": 38,
   "id": "67ff4e2c",
   "metadata": {},
   "outputs": [
    {
     "name": "stdout",
     "output_type": "stream",
     "text": [
      "Enter a number: 45\n",
      "55"
     ]
    }
   ],
   "source": [
    "# 6. Write user defined function to convert and display Decimal to Octal.\n",
    "def DtO(n):\n",
    "    if(n > 0): \n",
    "        DtO(int(n/8))\n",
    "        print(n%8, end='')\n",
    "\n",
    "DtO(int(input(\"Enter a number: \")))"
   ]
  },
  {
   "cell_type": "code",
   "execution_count": 39,
   "id": "6a737689",
   "metadata": {},
   "outputs": [
    {
     "name": "stdout",
     "output_type": "stream",
     "text": [
      "Enter a number: 123\n",
      "0x7b\n"
     ]
    }
   ],
   "source": [
    "# 7. Write user defined function to convert and display Decimal to Hexadecimal.\n",
    "def DtH(n):\n",
    "    print(hex(n))\n",
    "\n",
    "DtH(int(input(\"Enter a number: \")))"
   ]
  },
  {
   "cell_type": "code",
   "execution_count": 44,
   "id": "0fe8e2f5",
   "metadata": {},
   "outputs": [
    {
     "name": "stdout",
     "output_type": "stream",
     "text": [
      "Enter a number: 5\n"
     ]
    },
    {
     "data": {
      "text/plain": [
       "120"
      ]
     },
     "execution_count": 44,
     "metadata": {},
     "output_type": "execute_result"
    }
   ],
   "source": [
    "# 8. Write user defined function to display factorial of a number.\n",
    "def fac(n):\n",
    "    fact = 1\n",
    "    if(n > 0):\n",
    "        fact = fac(n-1)*n\n",
    "    return fact\n",
    "    \n",
    "fac(int(input(\"Enter a number: \")))"
   ]
  },
  {
   "cell_type": "code",
   "execution_count": 66,
   "id": "cb6af634",
   "metadata": {
    "scrolled": true
   },
   "outputs": [
    {
     "name": "stdout",
     "output_type": "stream",
     "text": [
      "Enter number of elements: 5\n",
      "7\n",
      "4\n",
      "1\n",
      "5\n",
      "8\n",
      "[1, 4, 5, 7, 8]\n"
     ]
    }
   ],
   "source": [
    "# 9. Write user defined function to implement bubble sort.\n",
    "def bs(lst):\n",
    "    for i in range(n-1):\n",
    "        for j in range(n-1):\n",
    "            if(lst[j] > lst[j+1]):\n",
    "                lst[j], lst[j+1] = lst[j+1], lst[j]       \n",
    "    print(lst)\n",
    "\n",
    "    \n",
    "list = []\n",
    "n = int(input(\"Enter number of elements: \"))\n",
    "for i in range(n):\n",
    "    list.append(int(input()))\n",
    "\n",
    "bs(list)"
   ]
  },
  {
   "cell_type": "code",
   "execution_count": 68,
   "id": "581be0db",
   "metadata": {
    "scrolled": true
   },
   "outputs": [
    {
     "name": "stdout",
     "output_type": "stream",
     "text": [
      "Enter a string: malayalam\n",
      "True\n"
     ]
    }
   ],
   "source": [
    "# 10. Write user defined function to display palindrome of a number.\n",
    "def isPalindrome(s):\n",
    "    return s == s[::-1]\n",
    "\n",
    "print(isPalindrome(input(\"Enter a string: \")))"
   ]
  },
  {
   "cell_type": "code",
   "execution_count": 58,
   "id": "5382ab3f",
   "metadata": {},
   "outputs": [
    {
     "name": "stdout",
     "output_type": "stream",
     "text": [
      "Enter a string: hello\n",
      "olleh\n"
     ]
    }
   ],
   "source": [
    "# 11. Write user defined function to display reverse of a number.\n",
    "def rev(s):\n",
    "    print(s[::-1])\n",
    "    \n",
    "rev(input(\"Enter a string: \"))"
   ]
  },
  {
   "cell_type": "code",
   "execution_count": 63,
   "id": "5bd2966f",
   "metadata": {},
   "outputs": [
    {
     "name": "stdout",
     "output_type": "stream",
     "text": [
      "{1: 1, 2: 4, 3: 9, 4: 16, 5: 25, 6: 36, 7: 49, 8: 64, 9: 81, 10: 100, 11: 121, 12: 144, 13: 169, 14: 196, 15: 225, 16: 256, 17: 289, 18: 324, 19: 361, 20: 400, 21: 441, 22: 484, 23: 529, 24: 576, 25: 625, 26: 676, 27: 729, 28: 784, 29: 841, 30: 900}\n"
     ]
    }
   ],
   "source": [
    "# 12. Write function which can print a dictionary where the keys are numbers\n",
    "# between 1 and 30 (both included) and the values are square of keys.\n",
    "\n",
    "def dict():\n",
    "    sq = {}\n",
    "    for i in range(1,31):\n",
    "        sq[i] = i*i    print(sq)\n",
    "\n",
    "dict()"
   ]
  }
 ],
 "metadata": {
  "kernelspec": {
   "display_name": "Python 3 (ipykernel)",
   "language": "python",
   "name": "python3"
  },
  "language_info": {
   "codemirror_mode": {
    "name": "ipython",
    "version": 3
   },
   "file_extension": ".py",
   "mimetype": "text/x-python",
   "name": "python",
   "nbconvert_exporter": "python",
   "pygments_lexer": "ipython3",
   "version": "3.11.0"
  }
 },
 "nbformat": 4,
 "nbformat_minor": 5
}
